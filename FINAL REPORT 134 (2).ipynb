{
 "cells": [
  {
   "cell_type": "markdown",
   "metadata": {},
   "source": [
    "# Creating a Recommendation System for Movies"
   ]
  },
  {
   "cell_type": "markdown",
   "metadata": {},
   "source": [
    "## Introduction "
   ]
  },
  {
   "cell_type": "markdown",
   "metadata": {},
   "source": [
    "Movies have always and still is a common form of entertainment, as well as, a common way people of all ages like to devote their downtime to. No matter what type of movie it is, the quality of the movie is important for individuals’ enjoyment and/or satisfaction. As a result, it is important that people do not waste time and/or money on a bad movie. Also, reviews are what is becoming more and more heavily relied on and more than ever accessible as they can be found within the touch of our fingers. Finding a way to suggest the best movies relative to the movies users of a website are searching up would make their lives much easier and waste less of their time. Therefore, our goal is to be able to suggest movies to those users on a movie rating website, such as Rotten Tomatoes, in order to make users feel satisfied and feel like the website is reliable to come back to for more movie recommendations and reviews in the future. We created a Recommendation System that will list a few good movies that a user may like based on the movie the user is currently looking at reviews for."
   ]
  },
  {
   "cell_type": "markdown",
   "metadata": {},
   "source": [
    "## About Our Dataset"
   ]
  },
  {
   "cell_type": "markdown",
   "metadata": {},
   "source": [
    "The dataset our project is based on files that contain a metadata for all 45,000 available movies in the Full MovieLens Dataset, which is a dataset with movies that were released on or before July 2017 with 26 million ratings from 270,000 users for all 45,000 movie based on a 1 to 5 scale ratings/reviews. "
   ]
  },
  {
   "cell_type": "markdown",
   "metadata": {},
   "source": [
    "## Approaches and Methods"
   ]
  },
  {
   "cell_type": "markdown",
   "metadata": {},
   "source": [
    "We accomplished our goal for the recommendation system through conducting an Exploratory Data Analysis to find common patterns and to explore variables individually along with its correlations. Then, we pre-processed our data to tidy it up a bit in order to conduct a Sentiment Analysis so that each review on the website could be given a score. We also used Non-negative Matrix Factorization with the help of wordclouds for topic modelling. "
   ]
  },
  {
   "cell_type": "markdown",
   "metadata": {},
   "source": [
    "### Exploratory Data Analysis "
   ]
  },
  {
   "cell_type": "markdown",
   "metadata": {},
   "source": [
    "We conducted exploratory data analysis through cleaning up the overview data and then applying it to some of the variables we included in the final model."
   ]
  },
  {
   "cell_type": "code",
   "execution_count": 204,
   "metadata": {},
   "outputs": [],
   "source": [
    "%matplotlib inline\n",
    "import pandas as pd\n",
    "import numpy as np\n",
    "import seaborn as sns\n",
    "import matplotlib.pyplot as plt\n",
    "from ast import literal_eval"
   ]
  },
  {
   "cell_type": "code",
   "execution_count": 205,
   "metadata": {},
   "outputs": [],
   "source": [
    "# import plotly\n",
    "# import plotly.graph_objs as go"
   ]
  },
  {
   "cell_type": "markdown",
   "metadata": {},
   "source": [
    "We first set the index of data to be movie titles. Looking at the given data, the variables genre, production countries, and production movies are in put in a json-like string. Then we use ast's library literal_eval() method to read the content of the cells for variables of production_companies, production_countries, and genre."
   ]
  },
  {
   "cell_type": "code",
   "execution_count": 206,
   "metadata": {},
   "outputs": [
    {
     "name": "stdout",
     "output_type": "stream",
     "text": [
      "<class 'pandas.core.frame.DataFrame'>\n",
      "RangeIndex: 25964 entries, 0 to 25963\n",
      "Data columns (total 24 columns):\n",
      "adult                    25964 non-null bool\n",
      "belongs_to_collection    3743 non-null object\n",
      "budget                   25964 non-null int64\n",
      "genres                   25964 non-null object\n",
      "homepage                 5423 non-null object\n",
      "id                       25964 non-null int64\n",
      "imdb_id                  25960 non-null object\n",
      "original_language        25962 non-null object\n",
      "original_title           25964 non-null object\n",
      "overview                 25764 non-null object\n",
      "popularity               25964 non-null float64\n",
      "poster_path              25963 non-null object\n",
      "production_companies     25964 non-null object\n",
      "production_countries     25964 non-null object\n",
      "release_date             25961 non-null object\n",
      "revenue                  25964 non-null int64\n",
      "runtime                  25942 non-null float64\n",
      "spoken_languages         25964 non-null object\n",
      "status                   25958 non-null object\n",
      "tagline                  14666 non-null object\n",
      "title                    25964 non-null object\n",
      "video                    25964 non-null bool\n",
      "vote_average             25964 non-null float64\n",
      "vote_count               25964 non-null int64\n",
      "dtypes: bool(2), float64(3), int64(4), object(15)\n",
      "memory usage: 4.4+ MB\n"
     ]
    }
   ],
   "source": [
    "movie = pd.read_csv(\"movie_metadata_1.csv\")\n",
    "movie.info()"
   ]
  },
  {
   "cell_type": "code",
   "execution_count": 207,
   "metadata": {},
   "outputs": [
    {
     "data": {
      "text/html": [
       "<div>\n",
       "<style scoped>\n",
       "    .dataframe tbody tr th:only-of-type {\n",
       "        vertical-align: middle;\n",
       "    }\n",
       "\n",
       "    .dataframe tbody tr th {\n",
       "        vertical-align: top;\n",
       "    }\n",
       "\n",
       "    .dataframe thead th {\n",
       "        text-align: right;\n",
       "    }\n",
       "</style>\n",
       "<table border=\"1\" class=\"dataframe\">\n",
       "  <thead>\n",
       "    <tr style=\"text-align: right;\">\n",
       "      <th></th>\n",
       "      <th>adult</th>\n",
       "      <th>belongs_to_collection</th>\n",
       "      <th>budget</th>\n",
       "      <th>genres</th>\n",
       "      <th>homepage</th>\n",
       "      <th>id</th>\n",
       "      <th>imdb_id</th>\n",
       "      <th>original_language</th>\n",
       "      <th>original_title</th>\n",
       "      <th>overview</th>\n",
       "      <th>...</th>\n",
       "      <th>release_date</th>\n",
       "      <th>revenue</th>\n",
       "      <th>runtime</th>\n",
       "      <th>spoken_languages</th>\n",
       "      <th>status</th>\n",
       "      <th>tagline</th>\n",
       "      <th>title</th>\n",
       "      <th>video</th>\n",
       "      <th>vote_average</th>\n",
       "      <th>vote_count</th>\n",
       "    </tr>\n",
       "  </thead>\n",
       "  <tbody>\n",
       "    <tr>\n",
       "      <th>0</th>\n",
       "      <td>False</td>\n",
       "      <td>NaN</td>\n",
       "      <td>160000000</td>\n",
       "      <td>[{'id': 28, 'name': 'Action'}, {'id': 53, 'name': 'Thriller'}, {'id': 878, 'name': 'Science Fiction'}, {'id': 9648, 'name': 'Mystery'}, {'id': 12, 'name': 'Adventure'}]</td>\n",
       "      <td>http://inceptionmovie.warnerbros.com/</td>\n",
       "      <td>27205</td>\n",
       "      <td>tt1375666</td>\n",
       "      <td>en</td>\n",
       "      <td>Inception</td>\n",
       "      <td>Cobb, a skilled thief who commits corporate espionage by infiltrating the subconscious of his targets is offered a chance to regain his old life as payment for a task considered to be impossible: \"inception\", the implantation of another person's idea into a target's subconsci...</td>\n",
       "      <td>...</td>\n",
       "      <td>7/14/2010</td>\n",
       "      <td>825532764</td>\n",
       "      <td>148.0</td>\n",
       "      <td>[{'iso_639_1': 'en', 'name': 'English'}]</td>\n",
       "      <td>Released</td>\n",
       "      <td>Your mind is the scene of the crime.</td>\n",
       "      <td>Inception</td>\n",
       "      <td>False</td>\n",
       "      <td>8.1</td>\n",
       "      <td>14075</td>\n",
       "    </tr>\n",
       "    <tr>\n",
       "      <th>1</th>\n",
       "      <td>False</td>\n",
       "      <td>{'id': 263, 'name': 'The Dark Knight Collection', 'poster_path': '/bqS2lMgGkuodIXtDILFWTSWDDpa.jpg', 'backdrop_path': '/xfKot7lqaiW4XpL5TtDlVBA9ei9.jpg'}</td>\n",
       "      <td>185000000</td>\n",
       "      <td>[{'id': 18, 'name': 'Drama'}, {'id': 28, 'name': 'Action'}, {'id': 80, 'name': 'Crime'}, {'id': 53, 'name': 'Thriller'}]</td>\n",
       "      <td>http://thedarkknight.warnerbros.com/dvdsite/</td>\n",
       "      <td>155</td>\n",
       "      <td>tt0468569</td>\n",
       "      <td>en</td>\n",
       "      <td>The Dark Knight</td>\n",
       "      <td>Batman raises the stakes in his war on crime. With the help of Lt. Jim Gordon and District Attorney Harvey Dent, Batman sets out to dismantle the remaining criminal organizations that plague the streets. The partnership proves to be effective, but they soon find themselves pr...</td>\n",
       "      <td>...</td>\n",
       "      <td>7/16/2008</td>\n",
       "      <td>1004558444</td>\n",
       "      <td>152.0</td>\n",
       "      <td>[{'iso_639_1': 'en', 'name': 'English'}, {'iso_639_1': 'zh', 'name': 'æ™®é€šè¯'}]</td>\n",
       "      <td>Released</td>\n",
       "      <td>Why So Serious?</td>\n",
       "      <td>The Dark Knight</td>\n",
       "      <td>False</td>\n",
       "      <td>8.3</td>\n",
       "      <td>12269</td>\n",
       "    </tr>\n",
       "    <tr>\n",
       "      <th>2</th>\n",
       "      <td>False</td>\n",
       "      <td>{'id': 87096, 'name': 'Avatar Collection', 'poster_path': '/nslJVsO58Etqkk17oXMuVK4gNOF.jpg', 'backdrop_path': '/9s4BM48NweGFrIRE6haIul0YJ9f.jpg'}</td>\n",
       "      <td>237000000</td>\n",
       "      <td>[{'id': 28, 'name': 'Action'}, {'id': 12, 'name': 'Adventure'}, {'id': 14, 'name': 'Fantasy'}, {'id': 878, 'name': 'Science Fiction'}]</td>\n",
       "      <td>http://www.avatarmovie.com/</td>\n",
       "      <td>19995</td>\n",
       "      <td>tt0499549</td>\n",
       "      <td>en</td>\n",
       "      <td>Avatar</td>\n",
       "      <td>In the 22nd century, a paraplegic Marine is dispatched to the moon Pandora on a unique mission, but becomes torn between following orders and protecting an alien civilization.</td>\n",
       "      <td>...</td>\n",
       "      <td>12/10/2009</td>\n",
       "      <td>2787965087</td>\n",
       "      <td>162.0</td>\n",
       "      <td>[{'iso_639_1': 'en', 'name': 'English'}, {'iso_639_1': 'es', 'name': 'EspaÃ±ol'}]</td>\n",
       "      <td>Released</td>\n",
       "      <td>Enter the World of Pandora.</td>\n",
       "      <td>Avatar</td>\n",
       "      <td>False</td>\n",
       "      <td>7.2</td>\n",
       "      <td>12114</td>\n",
       "    </tr>\n",
       "    <tr>\n",
       "      <th>3</th>\n",
       "      <td>False</td>\n",
       "      <td>{'id': 86311, 'name': 'The Avengers Collection', 'poster_path': '/qJawKUQcIBha507UahUlX0keOT7.jpg', 'backdrop_path': '/zuW6fOiusv4X9nnW3paHGfXcSll.jpg'}</td>\n",
       "      <td>220000000</td>\n",
       "      <td>[{'id': 878, 'name': 'Science Fiction'}, {'id': 28, 'name': 'Action'}, {'id': 12, 'name': 'Adventure'}]</td>\n",
       "      <td>http://marvel.com/avengers_movie/</td>\n",
       "      <td>24428</td>\n",
       "      <td>tt0848228</td>\n",
       "      <td>en</td>\n",
       "      <td>The Avengers</td>\n",
       "      <td>When an unexpected enemy emerges and threatens global safety and security, Nick Fury, director of the international peacekeeping agency known as S.H.I.E.L.D., finds himself in need of a team to pull the world back from the brink of disaster. Spanning the globe, a daring recru...</td>\n",
       "      <td>...</td>\n",
       "      <td>4/25/2012</td>\n",
       "      <td>1519557910</td>\n",
       "      <td>143.0</td>\n",
       "      <td>[{'iso_639_1': 'en', 'name': 'English'}]</td>\n",
       "      <td>Released</td>\n",
       "      <td>Some assembly required.</td>\n",
       "      <td>The Avengers</td>\n",
       "      <td>False</td>\n",
       "      <td>7.4</td>\n",
       "      <td>12000</td>\n",
       "    </tr>\n",
       "    <tr>\n",
       "      <th>4</th>\n",
       "      <td>False</td>\n",
       "      <td>{'id': 448150, 'name': 'Deadpool Collection', 'poster_path': '/30c5jO7YEXuF8KiWXLg9m28GWDA.jpg', 'backdrop_path': '/hBQOWY8qWXJVFAc8yLTh1teIu43.jpg'}</td>\n",
       "      <td>58000000</td>\n",
       "      <td>[{'id': 28, 'name': 'Action'}, {'id': 12, 'name': 'Adventure'}, {'id': 35, 'name': 'Comedy'}]</td>\n",
       "      <td>http://www.foxmovies.com/movies/deadpool</td>\n",
       "      <td>293660</td>\n",
       "      <td>tt1431045</td>\n",
       "      <td>en</td>\n",
       "      <td>Deadpool</td>\n",
       "      <td>Deadpool tells the origin story of former Special Forces operative turned mercenary Wade Wilson, who after being subjected to a rogue experiment that leaves him with accelerated healing powers, adopts the alter ego Deadpool. Armed with his new abilities and a dark, twisted se...</td>\n",
       "      <td>...</td>\n",
       "      <td>2/9/2016</td>\n",
       "      <td>783112979</td>\n",
       "      <td>108.0</td>\n",
       "      <td>[{'iso_639_1': 'en', 'name': 'English'}]</td>\n",
       "      <td>Released</td>\n",
       "      <td>Witness the beginning of a happy ending</td>\n",
       "      <td>Deadpool</td>\n",
       "      <td>False</td>\n",
       "      <td>7.4</td>\n",
       "      <td>11444</td>\n",
       "    </tr>\n",
       "  </tbody>\n",
       "</table>\n",
       "<p>5 rows × 24 columns</p>\n",
       "</div>"
      ],
      "text/plain": [
       "   adult  \\\n",
       "0  False   \n",
       "1  False   \n",
       "2  False   \n",
       "3  False   \n",
       "4  False   \n",
       "\n",
       "                                                                                                                                       belongs_to_collection  \\\n",
       "0                                                                                                                                                        NaN   \n",
       "1  {'id': 263, 'name': 'The Dark Knight Collection', 'poster_path': '/bqS2lMgGkuodIXtDILFWTSWDDpa.jpg', 'backdrop_path': '/xfKot7lqaiW4XpL5TtDlVBA9ei9.jpg'}   \n",
       "2         {'id': 87096, 'name': 'Avatar Collection', 'poster_path': '/nslJVsO58Etqkk17oXMuVK4gNOF.jpg', 'backdrop_path': '/9s4BM48NweGFrIRE6haIul0YJ9f.jpg'}   \n",
       "3   {'id': 86311, 'name': 'The Avengers Collection', 'poster_path': '/qJawKUQcIBha507UahUlX0keOT7.jpg', 'backdrop_path': '/zuW6fOiusv4X9nnW3paHGfXcSll.jpg'}   \n",
       "4      {'id': 448150, 'name': 'Deadpool Collection', 'poster_path': '/30c5jO7YEXuF8KiWXLg9m28GWDA.jpg', 'backdrop_path': '/hBQOWY8qWXJVFAc8yLTh1teIu43.jpg'}   \n",
       "\n",
       "      budget  \\\n",
       "0  160000000   \n",
       "1  185000000   \n",
       "2  237000000   \n",
       "3  220000000   \n",
       "4   58000000   \n",
       "\n",
       "                                                                                                                                                                     genres  \\\n",
       "0  [{'id': 28, 'name': 'Action'}, {'id': 53, 'name': 'Thriller'}, {'id': 878, 'name': 'Science Fiction'}, {'id': 9648, 'name': 'Mystery'}, {'id': 12, 'name': 'Adventure'}]   \n",
       "1                                                  [{'id': 18, 'name': 'Drama'}, {'id': 28, 'name': 'Action'}, {'id': 80, 'name': 'Crime'}, {'id': 53, 'name': 'Thriller'}]   \n",
       "2                                    [{'id': 28, 'name': 'Action'}, {'id': 12, 'name': 'Adventure'}, {'id': 14, 'name': 'Fantasy'}, {'id': 878, 'name': 'Science Fiction'}]   \n",
       "3                                                                   [{'id': 878, 'name': 'Science Fiction'}, {'id': 28, 'name': 'Action'}, {'id': 12, 'name': 'Adventure'}]   \n",
       "4                                                                             [{'id': 28, 'name': 'Action'}, {'id': 12, 'name': 'Adventure'}, {'id': 35, 'name': 'Comedy'}]   \n",
       "\n",
       "                                       homepage      id    imdb_id  \\\n",
       "0         http://inceptionmovie.warnerbros.com/   27205  tt1375666   \n",
       "1  http://thedarkknight.warnerbros.com/dvdsite/     155  tt0468569   \n",
       "2                   http://www.avatarmovie.com/   19995  tt0499549   \n",
       "3             http://marvel.com/avengers_movie/   24428  tt0848228   \n",
       "4      http://www.foxmovies.com/movies/deadpool  293660  tt1431045   \n",
       "\n",
       "  original_language   original_title  \\\n",
       "0                en        Inception   \n",
       "1                en  The Dark Knight   \n",
       "2                en           Avatar   \n",
       "3                en     The Avengers   \n",
       "4                en         Deadpool   \n",
       "\n",
       "                                                                                                                                                                                                                                                                                  overview  \\\n",
       "0  Cobb, a skilled thief who commits corporate espionage by infiltrating the subconscious of his targets is offered a chance to regain his old life as payment for a task considered to be impossible: \"inception\", the implantation of another person's idea into a target's subconsci...   \n",
       "1  Batman raises the stakes in his war on crime. With the help of Lt. Jim Gordon and District Attorney Harvey Dent, Batman sets out to dismantle the remaining criminal organizations that plague the streets. The partnership proves to be effective, but they soon find themselves pr...   \n",
       "2                                                                                                          In the 22nd century, a paraplegic Marine is dispatched to the moon Pandora on a unique mission, but becomes torn between following orders and protecting an alien civilization.   \n",
       "3  When an unexpected enemy emerges and threatens global safety and security, Nick Fury, director of the international peacekeeping agency known as S.H.I.E.L.D., finds himself in need of a team to pull the world back from the brink of disaster. Spanning the globe, a daring recru...   \n",
       "4  Deadpool tells the origin story of former Special Forces operative turned mercenary Wade Wilson, who after being subjected to a rogue experiment that leaves him with accelerated healing powers, adopts the alter ego Deadpool. Armed with his new abilities and a dark, twisted se...   \n",
       "\n",
       "   ...  release_date     revenue runtime  \\\n",
       "0  ...     7/14/2010   825532764   148.0   \n",
       "1  ...     7/16/2008  1004558444   152.0   \n",
       "2  ...    12/10/2009  2787965087   162.0   \n",
       "3  ...     4/25/2012  1519557910   143.0   \n",
       "4  ...      2/9/2016   783112979   108.0   \n",
       "\n",
       "                                                                     spoken_languages  \\\n",
       "0                                            [{'iso_639_1': 'en', 'name': 'English'}]   \n",
       "1  [{'iso_639_1': 'en', 'name': 'English'}, {'iso_639_1': 'zh', 'name': 'æ™®é€šè¯'}]   \n",
       "2   [{'iso_639_1': 'en', 'name': 'English'}, {'iso_639_1': 'es', 'name': 'EspaÃ±ol'}]   \n",
       "3                                            [{'iso_639_1': 'en', 'name': 'English'}]   \n",
       "4                                            [{'iso_639_1': 'en', 'name': 'English'}]   \n",
       "\n",
       "     status                                  tagline            title  video  \\\n",
       "0  Released     Your mind is the scene of the crime.        Inception  False   \n",
       "1  Released                          Why So Serious?  The Dark Knight  False   \n",
       "2  Released              Enter the World of Pandora.           Avatar  False   \n",
       "3  Released                  Some assembly required.     The Avengers  False   \n",
       "4  Released  Witness the beginning of a happy ending         Deadpool  False   \n",
       "\n",
       "  vote_average vote_count  \n",
       "0          8.1      14075  \n",
       "1          8.3      12269  \n",
       "2          7.2      12114  \n",
       "3          7.4      12000  \n",
       "4          7.4      11444  \n",
       "\n",
       "[5 rows x 24 columns]"
      ]
     },
     "execution_count": 207,
     "metadata": {},
     "output_type": "execute_result"
    }
   ],
   "source": [
    "movie.head()"
   ]
  },
  {
   "cell_type": "code",
   "execution_count": 208,
   "metadata": {},
   "outputs": [
    {
     "data": {
      "text/plain": [
       "(25964, 24)"
      ]
     },
     "execution_count": 208,
     "metadata": {},
     "output_type": "execute_result"
    }
   ],
   "source": [
    "movie.shape"
   ]
  },
  {
   "cell_type": "code",
   "execution_count": 209,
   "metadata": {},
   "outputs": [],
   "source": [
    "movie = movie.set_index(\"title\", drop = True)"
   ]
  },
  {
   "cell_type": "code",
   "execution_count": 210,
   "metadata": {},
   "outputs": [
    {
     "data": {
      "text/html": [
       "<div>\n",
       "<style scoped>\n",
       "    .dataframe tbody tr th:only-of-type {\n",
       "        vertical-align: middle;\n",
       "    }\n",
       "\n",
       "    .dataframe tbody tr th {\n",
       "        vertical-align: top;\n",
       "    }\n",
       "\n",
       "    .dataframe thead th {\n",
       "        text-align: right;\n",
       "    }\n",
       "</style>\n",
       "<table border=\"1\" class=\"dataframe\">\n",
       "  <thead>\n",
       "    <tr style=\"text-align: right;\">\n",
       "      <th></th>\n",
       "      <th>adult</th>\n",
       "      <th>belongs_to_collection</th>\n",
       "      <th>budget</th>\n",
       "      <th>genres</th>\n",
       "      <th>homepage</th>\n",
       "      <th>id</th>\n",
       "      <th>imdb_id</th>\n",
       "      <th>original_language</th>\n",
       "      <th>original_title</th>\n",
       "      <th>overview</th>\n",
       "      <th>...</th>\n",
       "      <th>production_countries</th>\n",
       "      <th>release_date</th>\n",
       "      <th>revenue</th>\n",
       "      <th>runtime</th>\n",
       "      <th>spoken_languages</th>\n",
       "      <th>status</th>\n",
       "      <th>tagline</th>\n",
       "      <th>video</th>\n",
       "      <th>vote_average</th>\n",
       "      <th>vote_count</th>\n",
       "    </tr>\n",
       "    <tr>\n",
       "      <th>title</th>\n",
       "      <th></th>\n",
       "      <th></th>\n",
       "      <th></th>\n",
       "      <th></th>\n",
       "      <th></th>\n",
       "      <th></th>\n",
       "      <th></th>\n",
       "      <th></th>\n",
       "      <th></th>\n",
       "      <th></th>\n",
       "      <th></th>\n",
       "      <th></th>\n",
       "      <th></th>\n",
       "      <th></th>\n",
       "      <th></th>\n",
       "      <th></th>\n",
       "      <th></th>\n",
       "      <th></th>\n",
       "      <th></th>\n",
       "      <th></th>\n",
       "      <th></th>\n",
       "    </tr>\n",
       "  </thead>\n",
       "  <tbody>\n",
       "    <tr>\n",
       "      <th>Inception</th>\n",
       "      <td>False</td>\n",
       "      <td>NaN</td>\n",
       "      <td>160000000</td>\n",
       "      <td>[{'id': 28, 'name': 'Action'}, {'id': 53, 'name': 'Thriller'}, {'id': 878, 'name': 'Science Fiction'}, {'id': 9648, 'name': 'Mystery'}, {'id': 12, 'name': 'Adventure'}]</td>\n",
       "      <td>http://inceptionmovie.warnerbros.com/</td>\n",
       "      <td>27205</td>\n",
       "      <td>tt1375666</td>\n",
       "      <td>en</td>\n",
       "      <td>Inception</td>\n",
       "      <td>Cobb, a skilled thief who commits corporate espionage by infiltrating the subconscious of his targets is offered a chance to regain his old life as payment for a task considered to be impossible: \"inception\", the implantation of another person's idea into a target's subconsci...</td>\n",
       "      <td>...</td>\n",
       "      <td>[{'iso_3166_1': 'GB', 'name': 'United Kingdom'}, {'iso_3166_1': 'US', 'name': 'United States of America'}]</td>\n",
       "      <td>7/14/2010</td>\n",
       "      <td>825532764</td>\n",
       "      <td>148.0</td>\n",
       "      <td>[{'iso_639_1': 'en', 'name': 'English'}]</td>\n",
       "      <td>Released</td>\n",
       "      <td>Your mind is the scene of the crime.</td>\n",
       "      <td>False</td>\n",
       "      <td>8.1</td>\n",
       "      <td>14075</td>\n",
       "    </tr>\n",
       "    <tr>\n",
       "      <th>The Dark Knight</th>\n",
       "      <td>False</td>\n",
       "      <td>{'id': 263, 'name': 'The Dark Knight Collection', 'poster_path': '/bqS2lMgGkuodIXtDILFWTSWDDpa.jpg', 'backdrop_path': '/xfKot7lqaiW4XpL5TtDlVBA9ei9.jpg'}</td>\n",
       "      <td>185000000</td>\n",
       "      <td>[{'id': 18, 'name': 'Drama'}, {'id': 28, 'name': 'Action'}, {'id': 80, 'name': 'Crime'}, {'id': 53, 'name': 'Thriller'}]</td>\n",
       "      <td>http://thedarkknight.warnerbros.com/dvdsite/</td>\n",
       "      <td>155</td>\n",
       "      <td>tt0468569</td>\n",
       "      <td>en</td>\n",
       "      <td>The Dark Knight</td>\n",
       "      <td>Batman raises the stakes in his war on crime. With the help of Lt. Jim Gordon and District Attorney Harvey Dent, Batman sets out to dismantle the remaining criminal organizations that plague the streets. The partnership proves to be effective, but they soon find themselves pr...</td>\n",
       "      <td>...</td>\n",
       "      <td>[{'iso_3166_1': 'GB', 'name': 'United Kingdom'}, {'iso_3166_1': 'US', 'name': 'United States of America'}]</td>\n",
       "      <td>7/16/2008</td>\n",
       "      <td>1004558444</td>\n",
       "      <td>152.0</td>\n",
       "      <td>[{'iso_639_1': 'en', 'name': 'English'}, {'iso_639_1': 'zh', 'name': 'æ™®é€šè¯'}]</td>\n",
       "      <td>Released</td>\n",
       "      <td>Why So Serious?</td>\n",
       "      <td>False</td>\n",
       "      <td>8.3</td>\n",
       "      <td>12269</td>\n",
       "    </tr>\n",
       "    <tr>\n",
       "      <th>Avatar</th>\n",
       "      <td>False</td>\n",
       "      <td>{'id': 87096, 'name': 'Avatar Collection', 'poster_path': '/nslJVsO58Etqkk17oXMuVK4gNOF.jpg', 'backdrop_path': '/9s4BM48NweGFrIRE6haIul0YJ9f.jpg'}</td>\n",
       "      <td>237000000</td>\n",
       "      <td>[{'id': 28, 'name': 'Action'}, {'id': 12, 'name': 'Adventure'}, {'id': 14, 'name': 'Fantasy'}, {'id': 878, 'name': 'Science Fiction'}]</td>\n",
       "      <td>http://www.avatarmovie.com/</td>\n",
       "      <td>19995</td>\n",
       "      <td>tt0499549</td>\n",
       "      <td>en</td>\n",
       "      <td>Avatar</td>\n",
       "      <td>In the 22nd century, a paraplegic Marine is dispatched to the moon Pandora on a unique mission, but becomes torn between following orders and protecting an alien civilization.</td>\n",
       "      <td>...</td>\n",
       "      <td>[{'iso_3166_1': 'US', 'name': 'United States of America'}, {'iso_3166_1': 'GB', 'name': 'United Kingdom'}]</td>\n",
       "      <td>12/10/2009</td>\n",
       "      <td>2787965087</td>\n",
       "      <td>162.0</td>\n",
       "      <td>[{'iso_639_1': 'en', 'name': 'English'}, {'iso_639_1': 'es', 'name': 'EspaÃ±ol'}]</td>\n",
       "      <td>Released</td>\n",
       "      <td>Enter the World of Pandora.</td>\n",
       "      <td>False</td>\n",
       "      <td>7.2</td>\n",
       "      <td>12114</td>\n",
       "    </tr>\n",
       "    <tr>\n",
       "      <th>The Avengers</th>\n",
       "      <td>False</td>\n",
       "      <td>{'id': 86311, 'name': 'The Avengers Collection', 'poster_path': '/qJawKUQcIBha507UahUlX0keOT7.jpg', 'backdrop_path': '/zuW6fOiusv4X9nnW3paHGfXcSll.jpg'}</td>\n",
       "      <td>220000000</td>\n",
       "      <td>[{'id': 878, 'name': 'Science Fiction'}, {'id': 28, 'name': 'Action'}, {'id': 12, 'name': 'Adventure'}]</td>\n",
       "      <td>http://marvel.com/avengers_movie/</td>\n",
       "      <td>24428</td>\n",
       "      <td>tt0848228</td>\n",
       "      <td>en</td>\n",
       "      <td>The Avengers</td>\n",
       "      <td>When an unexpected enemy emerges and threatens global safety and security, Nick Fury, director of the international peacekeeping agency known as S.H.I.E.L.D., finds himself in need of a team to pull the world back from the brink of disaster. Spanning the globe, a daring recru...</td>\n",
       "      <td>...</td>\n",
       "      <td>[{'iso_3166_1': 'US', 'name': 'United States of America'}]</td>\n",
       "      <td>4/25/2012</td>\n",
       "      <td>1519557910</td>\n",
       "      <td>143.0</td>\n",
       "      <td>[{'iso_639_1': 'en', 'name': 'English'}]</td>\n",
       "      <td>Released</td>\n",
       "      <td>Some assembly required.</td>\n",
       "      <td>False</td>\n",
       "      <td>7.4</td>\n",
       "      <td>12000</td>\n",
       "    </tr>\n",
       "    <tr>\n",
       "      <th>Deadpool</th>\n",
       "      <td>False</td>\n",
       "      <td>{'id': 448150, 'name': 'Deadpool Collection', 'poster_path': '/30c5jO7YEXuF8KiWXLg9m28GWDA.jpg', 'backdrop_path': '/hBQOWY8qWXJVFAc8yLTh1teIu43.jpg'}</td>\n",
       "      <td>58000000</td>\n",
       "      <td>[{'id': 28, 'name': 'Action'}, {'id': 12, 'name': 'Adventure'}, {'id': 35, 'name': 'Comedy'}]</td>\n",
       "      <td>http://www.foxmovies.com/movies/deadpool</td>\n",
       "      <td>293660</td>\n",
       "      <td>tt1431045</td>\n",
       "      <td>en</td>\n",
       "      <td>Deadpool</td>\n",
       "      <td>Deadpool tells the origin story of former Special Forces operative turned mercenary Wade Wilson, who after being subjected to a rogue experiment that leaves him with accelerated healing powers, adopts the alter ego Deadpool. Armed with his new abilities and a dark, twisted se...</td>\n",
       "      <td>...</td>\n",
       "      <td>[{'iso_3166_1': 'US', 'name': 'United States of America'}]</td>\n",
       "      <td>2/9/2016</td>\n",
       "      <td>783112979</td>\n",
       "      <td>108.0</td>\n",
       "      <td>[{'iso_639_1': 'en', 'name': 'English'}]</td>\n",
       "      <td>Released</td>\n",
       "      <td>Witness the beginning of a happy ending</td>\n",
       "      <td>False</td>\n",
       "      <td>7.4</td>\n",
       "      <td>11444</td>\n",
       "    </tr>\n",
       "  </tbody>\n",
       "</table>\n",
       "<p>5 rows × 23 columns</p>\n",
       "</div>"
      ],
      "text/plain": [
       "                 adult  \\\n",
       "title                    \n",
       "Inception        False   \n",
       "The Dark Knight  False   \n",
       "Avatar           False   \n",
       "The Avengers     False   \n",
       "Deadpool         False   \n",
       "\n",
       "                                                                                                                                                     belongs_to_collection  \\\n",
       "title                                                                                                                                                                        \n",
       "Inception                                                                                                                                                              NaN   \n",
       "The Dark Knight  {'id': 263, 'name': 'The Dark Knight Collection', 'poster_path': '/bqS2lMgGkuodIXtDILFWTSWDDpa.jpg', 'backdrop_path': '/xfKot7lqaiW4XpL5TtDlVBA9ei9.jpg'}   \n",
       "Avatar                  {'id': 87096, 'name': 'Avatar Collection', 'poster_path': '/nslJVsO58Etqkk17oXMuVK4gNOF.jpg', 'backdrop_path': '/9s4BM48NweGFrIRE6haIul0YJ9f.jpg'}   \n",
       "The Avengers      {'id': 86311, 'name': 'The Avengers Collection', 'poster_path': '/qJawKUQcIBha507UahUlX0keOT7.jpg', 'backdrop_path': '/zuW6fOiusv4X9nnW3paHGfXcSll.jpg'}   \n",
       "Deadpool             {'id': 448150, 'name': 'Deadpool Collection', 'poster_path': '/30c5jO7YEXuF8KiWXLg9m28GWDA.jpg', 'backdrop_path': '/hBQOWY8qWXJVFAc8yLTh1teIu43.jpg'}   \n",
       "\n",
       "                    budget  \\\n",
       "title                        \n",
       "Inception        160000000   \n",
       "The Dark Knight  185000000   \n",
       "Avatar           237000000   \n",
       "The Avengers     220000000   \n",
       "Deadpool          58000000   \n",
       "\n",
       "                                                                                                                                                                                   genres  \\\n",
       "title                                                                                                                                                                                       \n",
       "Inception        [{'id': 28, 'name': 'Action'}, {'id': 53, 'name': 'Thriller'}, {'id': 878, 'name': 'Science Fiction'}, {'id': 9648, 'name': 'Mystery'}, {'id': 12, 'name': 'Adventure'}]   \n",
       "The Dark Knight                                                  [{'id': 18, 'name': 'Drama'}, {'id': 28, 'name': 'Action'}, {'id': 80, 'name': 'Crime'}, {'id': 53, 'name': 'Thriller'}]   \n",
       "Avatar                                             [{'id': 28, 'name': 'Action'}, {'id': 12, 'name': 'Adventure'}, {'id': 14, 'name': 'Fantasy'}, {'id': 878, 'name': 'Science Fiction'}]   \n",
       "The Avengers                                                                      [{'id': 878, 'name': 'Science Fiction'}, {'id': 28, 'name': 'Action'}, {'id': 12, 'name': 'Adventure'}]   \n",
       "Deadpool                                                                                    [{'id': 28, 'name': 'Action'}, {'id': 12, 'name': 'Adventure'}, {'id': 35, 'name': 'Comedy'}]   \n",
       "\n",
       "                                                     homepage      id  \\\n",
       "title                                                                   \n",
       "Inception               http://inceptionmovie.warnerbros.com/   27205   \n",
       "The Dark Knight  http://thedarkknight.warnerbros.com/dvdsite/     155   \n",
       "Avatar                            http://www.avatarmovie.com/   19995   \n",
       "The Avengers                http://marvel.com/avengers_movie/   24428   \n",
       "Deadpool             http://www.foxmovies.com/movies/deadpool  293660   \n",
       "\n",
       "                   imdb_id original_language   original_title  \\\n",
       "title                                                           \n",
       "Inception        tt1375666                en        Inception   \n",
       "The Dark Knight  tt0468569                en  The Dark Knight   \n",
       "Avatar           tt0499549                en           Avatar   \n",
       "The Avengers     tt0848228                en     The Avengers   \n",
       "Deadpool         tt1431045                en         Deadpool   \n",
       "\n",
       "                                                                                                                                                                                                                                                                                                overview  \\\n",
       "title                                                                                                                                                                                                                                                                                                      \n",
       "Inception        Cobb, a skilled thief who commits corporate espionage by infiltrating the subconscious of his targets is offered a chance to regain his old life as payment for a task considered to be impossible: \"inception\", the implantation of another person's idea into a target's subconsci...   \n",
       "The Dark Knight  Batman raises the stakes in his war on crime. With the help of Lt. Jim Gordon and District Attorney Harvey Dent, Batman sets out to dismantle the remaining criminal organizations that plague the streets. The partnership proves to be effective, but they soon find themselves pr...   \n",
       "Avatar                                                                                                                   In the 22nd century, a paraplegic Marine is dispatched to the moon Pandora on a unique mission, but becomes torn between following orders and protecting an alien civilization.   \n",
       "The Avengers     When an unexpected enemy emerges and threatens global safety and security, Nick Fury, director of the international peacekeeping agency known as S.H.I.E.L.D., finds himself in need of a team to pull the world back from the brink of disaster. Spanning the globe, a daring recru...   \n",
       "Deadpool         Deadpool tells the origin story of former Special Forces operative turned mercenary Wade Wilson, who after being subjected to a rogue experiment that leaves him with accelerated healing powers, adopts the alter ego Deadpool. Armed with his new abilities and a dark, twisted se...   \n",
       "\n",
       "                 ...  \\\n",
       "title            ...   \n",
       "Inception        ...   \n",
       "The Dark Knight  ...   \n",
       "Avatar           ...   \n",
       "The Avengers     ...   \n",
       "Deadpool         ...   \n",
       "\n",
       "                                                                                                       production_countries  \\\n",
       "title                                                                                                                         \n",
       "Inception        [{'iso_3166_1': 'GB', 'name': 'United Kingdom'}, {'iso_3166_1': 'US', 'name': 'United States of America'}]   \n",
       "The Dark Knight  [{'iso_3166_1': 'GB', 'name': 'United Kingdom'}, {'iso_3166_1': 'US', 'name': 'United States of America'}]   \n",
       "Avatar           [{'iso_3166_1': 'US', 'name': 'United States of America'}, {'iso_3166_1': 'GB', 'name': 'United Kingdom'}]   \n",
       "The Avengers                                                     [{'iso_3166_1': 'US', 'name': 'United States of America'}]   \n",
       "Deadpool                                                         [{'iso_3166_1': 'US', 'name': 'United States of America'}]   \n",
       "\n",
       "                release_date     revenue runtime  \\\n",
       "title                                              \n",
       "Inception          7/14/2010   825532764   148.0   \n",
       "The Dark Knight    7/16/2008  1004558444   152.0   \n",
       "Avatar            12/10/2009  2787965087   162.0   \n",
       "The Avengers       4/25/2012  1519557910   143.0   \n",
       "Deadpool            2/9/2016   783112979   108.0   \n",
       "\n",
       "                                                                                   spoken_languages  \\\n",
       "title                                                                                                 \n",
       "Inception                                                  [{'iso_639_1': 'en', 'name': 'English'}]   \n",
       "The Dark Knight  [{'iso_639_1': 'en', 'name': 'English'}, {'iso_639_1': 'zh', 'name': 'æ™®é€šè¯'}]   \n",
       "Avatar            [{'iso_639_1': 'en', 'name': 'English'}, {'iso_639_1': 'es', 'name': 'EspaÃ±ol'}]   \n",
       "The Avengers                                               [{'iso_639_1': 'en', 'name': 'English'}]   \n",
       "Deadpool                                                   [{'iso_639_1': 'en', 'name': 'English'}]   \n",
       "\n",
       "                   status                                  tagline  video  \\\n",
       "title                                                                       \n",
       "Inception        Released     Your mind is the scene of the crime.  False   \n",
       "The Dark Knight  Released                          Why So Serious?  False   \n",
       "Avatar           Released              Enter the World of Pandora.  False   \n",
       "The Avengers     Released                  Some assembly required.  False   \n",
       "Deadpool         Released  Witness the beginning of a happy ending  False   \n",
       "\n",
       "                vote_average vote_count  \n",
       "title                                    \n",
       "Inception                8.1      14075  \n",
       "The Dark Knight          8.3      12269  \n",
       "Avatar                   7.2      12114  \n",
       "The Avengers             7.4      12000  \n",
       "Deadpool                 7.4      11444  \n",
       "\n",
       "[5 rows x 23 columns]"
      ]
     },
     "execution_count": 210,
     "metadata": {},
     "output_type": "execute_result"
    }
   ],
   "source": [
    "movie.head()"
   ]
  },
  {
   "cell_type": "code",
   "execution_count": 211,
   "metadata": {},
   "outputs": [],
   "source": [
    "movie['genres'] = movie['genres'].fillna('[]').apply(literal_eval).apply(lambda x: [i['name'] for i in x] if isinstance(x, list) else [])\n",
    "movie['production_countries'] = movie['production_countries'].fillna('[]').apply(literal_eval).apply(lambda x: [i['name'] for i in x] if isinstance(x, list) else [])\n",
    "movie['production_companies'] = movie['production_companies'].fillna('[]').apply(literal_eval).apply(lambda x: [i['name'] for i in x] if isinstance(x, list) else [])"
   ]
  },
  {
   "cell_type": "code",
   "execution_count": 212,
   "metadata": {},
   "outputs": [
    {
     "data": {
      "text/plain": [
       "adult                        0\n",
       "belongs_to_collection    22221\n",
       "budget                       0\n",
       "genres                       0\n",
       "homepage                 20541\n",
       "id                           0\n",
       "imdb_id                      4\n",
       "original_language            2\n",
       "original_title               0\n",
       "overview                   200\n",
       "popularity                   0\n",
       "poster_path                  1\n",
       "production_companies         0\n",
       "production_countries         0\n",
       "release_date                 3\n",
       "revenue                      0\n",
       "runtime                     22\n",
       "spoken_languages             0\n",
       "status                       6\n",
       "tagline                  11298\n",
       "video                        0\n",
       "vote_average                 0\n",
       "vote_count                   0\n",
       "dtype: int64"
      ]
     },
     "execution_count": 212,
     "metadata": {},
     "output_type": "execute_result"
    }
   ],
   "source": [
    "movie.isnull().sum()"
   ]
  },
  {
   "cell_type": "markdown",
   "metadata": {},
   "source": [
    "Next, we created a heatmap to show the number of missing values in each variable. We got rid of variables belongs_to_collection, homepage, and tagline as they were made of mostly missing values, as well as variables that were not seem relevant to our study. "
   ]
  },
  {
   "cell_type": "code",
   "execution_count": 213,
   "metadata": {},
   "outputs": [
    {
     "data": {
      "text/plain": [
       "<matplotlib.axes._subplots.AxesSubplot at 0x7fea834e1c50>"
      ]
     },
     "execution_count": 213,
     "metadata": {},
     "output_type": "execute_result"
    },
    {
     "data": {
      "image/png": "[encoded data removed]",
      "text/plain": [
       "<Figure size 432x288 with 1 Axes>"
      ]
     },
     "metadata": {
      "needs_background": "light"
     },
     "output_type": "display_data"
    }
   ],
   "source": [
    "sns.heatmap(movie.isnull(), yticklabels = False, cbar = False, cmap = 'viridis')"
   ]
  },
  {
   "cell_type": "markdown",
   "metadata": {},
   "source": [
    "Since datasets often put 0 instead of NA for missing values, we checked to see if there is any 0 values for budget. A lot of zeros were found in both variables, and we replaced the zero values with NA to remove them in the budget variable only since released movies can not possibly have $0 in budget. "
   ]
  },
  {
   "cell_type": "code",
   "execution_count": 214,
   "metadata": {},
   "outputs": [],
   "source": [
    "# drop the columns that do not seem interesting or relevant \n",
    "movie_clean = movie.drop(['tagline', 'homepage','imdb_id', 'poster_path', 'original_title', 'overview', 'status', 'video', 'adult'], axis = 1)"
   ]
  },
  {
   "cell_type": "code",
   "execution_count": 215,
   "metadata": {},
   "outputs": [
    {
     "data": {
      "text/plain": [
       "18117"
      ]
     },
     "execution_count": 215,
     "metadata": {},
     "output_type": "execute_result"
    }
   ],
   "source": [
    "# we want to see if there is any 0 values for budget and revenues \n",
    "movie_clean[movie_clean['budget'] == 0]['budget'].count()"
   ]
  },
  {
   "cell_type": "code",
   "execution_count": 216,
   "metadata": {},
   "outputs": [
    {
     "data": {
      "text/plain": [
       "19014"
      ]
     },
     "execution_count": 216,
     "metadata": {},
     "output_type": "execute_result"
    }
   ],
   "source": [
    "movie_clean[movie_clean['revenue'] == 0]['revenue'].count()"
   ]
  },
  {
   "cell_type": "code",
   "execution_count": 217,
   "metadata": {},
   "outputs": [],
   "source": [
    "# we should input NA values for revenues when both budget and revenue are 0 \n",
    "# we should input NA values for budget when budget is 0\n",
    "# but we are gonna leave the ones that have budget value but no revenue value\n",
    "\n",
    "movie_clean.loc[(movie_clean['budget'] == 0) & (movie_clean['revenue'] == 0), 'revenue'] = np.nan\n",
    "movie_clean.loc[movie_clean['budget'] == 0,'budget'] = np.nan"
   ]
  },
  {
   "cell_type": "code",
   "execution_count": 218,
   "metadata": {},
   "outputs": [
    {
     "data": {
      "text/plain": [
       "belongs_to_collection    22221\n",
       "budget                   18117\n",
       "genres                       0\n",
       "id                           0\n",
       "original_language            2\n",
       "popularity                   0\n",
       "production_companies         0\n",
       "production_countries         0\n",
       "release_date                 3\n",
       "revenue                  16360\n",
       "runtime                     22\n",
       "spoken_languages             0\n",
       "vote_average                 0\n",
       "vote_count                   0\n",
       "dtype: int64"
      ]
     },
     "execution_count": 218,
     "metadata": {},
     "output_type": "execute_result"
    }
   ],
   "source": [
    "movie_clean.isnull().sum()"
   ]
  },
  {
   "cell_type": "code",
   "execution_count": 219,
   "metadata": {},
   "outputs": [],
   "source": [
    "movie_clean = movie_clean.dropna()"
   ]
  },
  {
   "cell_type": "markdown",
   "metadata": {},
   "source": [
    "Next, we added column profit that was defined as: revenue - budget."
   ]
  },
  {
   "cell_type": "code",
   "execution_count": 220,
   "metadata": {},
   "outputs": [],
   "source": [
    "# we want to add a net profit column as well \n",
    "movie_clean['profit'] = movie_clean['revenue'] - movie_clean['budget']"
   ]
  },
  {
   "cell_type": "code",
   "execution_count": 221,
   "metadata": {},
   "outputs": [
    {
     "data": {
      "text/html": [
       "<div>\n",
       "<style scoped>\n",
       "    .dataframe tbody tr th:only-of-type {\n",
       "        vertical-align: middle;\n",
       "    }\n",
       "\n",
       "    .dataframe tbody tr th {\n",
       "        vertical-align: top;\n",
       "    }\n",
       "\n",
       "    .dataframe thead th {\n",
       "        text-align: right;\n",
       "    }\n",
       "</style>\n",
       "<table border=\"1\" class=\"dataframe\">\n",
       "  <thead>\n",
       "    <tr style=\"text-align: right;\">\n",
       "      <th></th>\n",
       "      <th>belongs_to_collection</th>\n",
       "      <th>budget</th>\n",
       "      <th>genres</th>\n",
       "      <th>id</th>\n",
       "      <th>original_language</th>\n",
       "      <th>popularity</th>\n",
       "      <th>production_companies</th>\n",
       "      <th>production_countries</th>\n",
       "      <th>release_date</th>\n",
       "      <th>revenue</th>\n",
       "      <th>runtime</th>\n",
       "      <th>spoken_languages</th>\n",
       "      <th>vote_average</th>\n",
       "      <th>vote_count</th>\n",
       "      <th>profit</th>\n",
       "    </tr>\n",
       "    <tr>\n",
       "      <th>title</th>\n",
       "      <th></th>\n",
       "      <th></th>\n",
       "      <th></th>\n",
       "      <th></th>\n",
       "      <th></th>\n",
       "      <th></th>\n",
       "      <th></th>\n",
       "      <th></th>\n",
       "      <th></th>\n",
       "      <th></th>\n",
       "      <th></th>\n",
       "      <th></th>\n",
       "      <th></th>\n",
       "      <th></th>\n",
       "      <th></th>\n",
       "    </tr>\n",
       "  </thead>\n",
       "  <tbody>\n",
       "    <tr>\n",
       "      <th>The Dark Knight</th>\n",
       "      <td>{'id': 263, 'name': 'The Dark Knight Collection', 'poster_path': '/bqS2lMgGkuodIXtDILFWTSWDDpa.jpg', 'backdrop_path': '/xfKot7lqaiW4XpL5TtDlVBA9ei9.jpg'}</td>\n",
       "      <td>185000000.0</td>\n",
       "      <td>[Drama, Action, Crime, Thriller]</td>\n",
       "      <td>155</td>\n",
       "      <td>en</td>\n",
       "      <td>123.167259</td>\n",
       "      <td>[DC Comics, Legendary Pictures, Warner Bros., DC Entertainment, Syncopy]</td>\n",
       "      <td>[United Kingdom, United States of America]</td>\n",
       "      <td>7/16/2008</td>\n",
       "      <td>1.004558e+09</td>\n",
       "      <td>152.0</td>\n",
       "      <td>[{'iso_639_1': 'en', 'name': 'English'}, {'iso_639_1': 'zh', 'name': 'æ™®é€šè¯'}]</td>\n",
       "      <td>8.3</td>\n",
       "      <td>12269</td>\n",
       "      <td>8.195584e+08</td>\n",
       "    </tr>\n",
       "    <tr>\n",
       "      <th>Avatar</th>\n",
       "      <td>{'id': 87096, 'name': 'Avatar Collection', 'poster_path': '/nslJVsO58Etqkk17oXMuVK4gNOF.jpg', 'backdrop_path': '/9s4BM48NweGFrIRE6haIul0YJ9f.jpg'}</td>\n",
       "      <td>237000000.0</td>\n",
       "      <td>[Action, Adventure, Fantasy, Science Fiction]</td>\n",
       "      <td>19995</td>\n",
       "      <td>en</td>\n",
       "      <td>185.070892</td>\n",
       "      <td>[Ingenious Film Partners, Twentieth Century Fox Film Corporation, Dune Entertainment, Lightstorm Entertainment]</td>\n",
       "      <td>[United States of America, United Kingdom]</td>\n",
       "      <td>12/10/2009</td>\n",
       "      <td>2.787965e+09</td>\n",
       "      <td>162.0</td>\n",
       "      <td>[{'iso_639_1': 'en', 'name': 'English'}, {'iso_639_1': 'es', 'name': 'EspaÃ±ol'}]</td>\n",
       "      <td>7.2</td>\n",
       "      <td>12114</td>\n",
       "      <td>2.550965e+09</td>\n",
       "    </tr>\n",
       "    <tr>\n",
       "      <th>The Avengers</th>\n",
       "      <td>{'id': 86311, 'name': 'The Avengers Collection', 'poster_path': '/qJawKUQcIBha507UahUlX0keOT7.jpg', 'backdrop_path': '/zuW6fOiusv4X9nnW3paHGfXcSll.jpg'}</td>\n",
       "      <td>220000000.0</td>\n",
       "      <td>[Science Fiction, Action, Adventure]</td>\n",
       "      <td>24428</td>\n",
       "      <td>en</td>\n",
       "      <td>89.887648</td>\n",
       "      <td>[Paramount Pictures, Marvel Studios]</td>\n",
       "      <td>[United States of America]</td>\n",
       "      <td>4/25/2012</td>\n",
       "      <td>1.519558e+09</td>\n",
       "      <td>143.0</td>\n",
       "      <td>[{'iso_639_1': 'en', 'name': 'English'}]</td>\n",
       "      <td>7.4</td>\n",
       "      <td>12000</td>\n",
       "      <td>1.299558e+09</td>\n",
       "    </tr>\n",
       "    <tr>\n",
       "      <th>Deadpool</th>\n",
       "      <td>{'id': 448150, 'name': 'Deadpool Collection', 'poster_path': '/30c5jO7YEXuF8KiWXLg9m28GWDA.jpg', 'backdrop_path': '/hBQOWY8qWXJVFAc8yLTh1teIu43.jpg'}</td>\n",
       "      <td>58000000.0</td>\n",
       "      <td>[Action, Adventure, Comedy]</td>\n",
       "      <td>293660</td>\n",
       "      <td>en</td>\n",
       "      <td>187.860492</td>\n",
       "      <td>[Twentieth Century Fox Film Corporation, Marvel Entertainment, The Donners' Company, TSG Entertainment, Kinberg Genre]</td>\n",
       "      <td>[United States of America]</td>\n",
       "      <td>2/9/2016</td>\n",
       "      <td>7.831130e+08</td>\n",
       "      <td>108.0</td>\n",
       "      <td>[{'iso_639_1': 'en', 'name': 'English'}]</td>\n",
       "      <td>7.4</td>\n",
       "      <td>11444</td>\n",
       "      <td>7.251130e+08</td>\n",
       "    </tr>\n",
       "    <tr>\n",
       "      <th>Guardians of the Galaxy</th>\n",
       "      <td>{'id': 284433, 'name': 'Guardians of the Galaxy Collection', 'poster_path': '/iL8mukexAqEg0xK783rG561tdd8.jpg', 'backdrop_path': '/jdyyjulTBU8YUYAUvQFj6U1g2Pj.jpg'}</td>\n",
       "      <td>170000000.0</td>\n",
       "      <td>[Action, Science Fiction, Adventure]</td>\n",
       "      <td>118340</td>\n",
       "      <td>en</td>\n",
       "      <td>53.291601</td>\n",
       "      <td>[Marvel Studios, Moving Picture Company (MPC), Bulletproof Cupid, Revolution Sun Studios]</td>\n",
       "      <td>[United Kingdom, United States of America]</td>\n",
       "      <td>7/30/2014</td>\n",
       "      <td>7.733286e+08</td>\n",
       "      <td>121.0</td>\n",
       "      <td>[{'iso_639_1': 'en', 'name': 'English'}]</td>\n",
       "      <td>7.9</td>\n",
       "      <td>10014</td>\n",
       "      <td>6.033286e+08</td>\n",
       "    </tr>\n",
       "  </tbody>\n",
       "</table>\n",
       "</div>"
      ],
      "text/plain": [
       "                                                                                                                                                                        belongs_to_collection  \\\n",
       "title                                                                                                                                                                                           \n",
       "The Dark Knight                     {'id': 263, 'name': 'The Dark Knight Collection', 'poster_path': '/bqS2lMgGkuodIXtDILFWTSWDDpa.jpg', 'backdrop_path': '/xfKot7lqaiW4XpL5TtDlVBA9ei9.jpg'}   \n",
       "Avatar                                     {'id': 87096, 'name': 'Avatar Collection', 'poster_path': '/nslJVsO58Etqkk17oXMuVK4gNOF.jpg', 'backdrop_path': '/9s4BM48NweGFrIRE6haIul0YJ9f.jpg'}   \n",
       "The Avengers                         {'id': 86311, 'name': 'The Avengers Collection', 'poster_path': '/qJawKUQcIBha507UahUlX0keOT7.jpg', 'backdrop_path': '/zuW6fOiusv4X9nnW3paHGfXcSll.jpg'}   \n",
       "Deadpool                                {'id': 448150, 'name': 'Deadpool Collection', 'poster_path': '/30c5jO7YEXuF8KiWXLg9m28GWDA.jpg', 'backdrop_path': '/hBQOWY8qWXJVFAc8yLTh1teIu43.jpg'}   \n",
       "Guardians of the Galaxy  {'id': 284433, 'name': 'Guardians of the Galaxy Collection', 'poster_path': '/iL8mukexAqEg0xK783rG561tdd8.jpg', 'backdrop_path': '/jdyyjulTBU8YUYAUvQFj6U1g2Pj.jpg'}   \n",
       "\n",
       "                              budget  \\\n",
       "title                                  \n",
       "The Dark Knight          185000000.0   \n",
       "Avatar                   237000000.0   \n",
       "The Avengers             220000000.0   \n",
       "Deadpool                  58000000.0   \n",
       "Guardians of the Galaxy  170000000.0   \n",
       "\n",
       "                                                                genres  \\\n",
       "title                                                                    \n",
       "The Dark Knight                       [Drama, Action, Crime, Thriller]   \n",
       "Avatar                   [Action, Adventure, Fantasy, Science Fiction]   \n",
       "The Avengers                      [Science Fiction, Action, Adventure]   \n",
       "Deadpool                                   [Action, Adventure, Comedy]   \n",
       "Guardians of the Galaxy           [Action, Science Fiction, Adventure]   \n",
       "\n",
       "                             id original_language  popularity  \\\n",
       "title                                                           \n",
       "The Dark Knight             155                en  123.167259   \n",
       "Avatar                    19995                en  185.070892   \n",
       "The Avengers              24428                en   89.887648   \n",
       "Deadpool                 293660                en  187.860492   \n",
       "Guardians of the Galaxy  118340                en   53.291601   \n",
       "\n",
       "                                                                                                                           production_companies  \\\n",
       "title                                                                                                                                             \n",
       "The Dark Knight                                                        [DC Comics, Legendary Pictures, Warner Bros., DC Entertainment, Syncopy]   \n",
       "Avatar                          [Ingenious Film Partners, Twentieth Century Fox Film Corporation, Dune Entertainment, Lightstorm Entertainment]   \n",
       "The Avengers                                                                                               [Paramount Pictures, Marvel Studios]   \n",
       "Deadpool                 [Twentieth Century Fox Film Corporation, Marvel Entertainment, The Donners' Company, TSG Entertainment, Kinberg Genre]   \n",
       "Guardians of the Galaxy                               [Marvel Studios, Moving Picture Company (MPC), Bulletproof Cupid, Revolution Sun Studios]   \n",
       "\n",
       "                                               production_countries  \\\n",
       "title                                                                 \n",
       "The Dark Knight          [United Kingdom, United States of America]   \n",
       "Avatar                   [United States of America, United Kingdom]   \n",
       "The Avengers                             [United States of America]   \n",
       "Deadpool                                 [United States of America]   \n",
       "Guardians of the Galaxy  [United Kingdom, United States of America]   \n",
       "\n",
       "                        release_date       revenue  runtime  \\\n",
       "title                                                         \n",
       "The Dark Knight            7/16/2008  1.004558e+09    152.0   \n",
       "Avatar                    12/10/2009  2.787965e+09    162.0   \n",
       "The Avengers               4/25/2012  1.519558e+09    143.0   \n",
       "Deadpool                    2/9/2016  7.831130e+08    108.0   \n",
       "Guardians of the Galaxy    7/30/2014  7.733286e+08    121.0   \n",
       "\n",
       "                                                                                           spoken_languages  \\\n",
       "title                                                                                                         \n",
       "The Dark Knight          [{'iso_639_1': 'en', 'name': 'English'}, {'iso_639_1': 'zh', 'name': 'æ™®é€šè¯'}]   \n",
       "Avatar                    [{'iso_639_1': 'en', 'name': 'English'}, {'iso_639_1': 'es', 'name': 'EspaÃ±ol'}]   \n",
       "The Avengers                                                       [{'iso_639_1': 'en', 'name': 'English'}]   \n",
       "Deadpool                                                           [{'iso_639_1': 'en', 'name': 'English'}]   \n",
       "Guardians of the Galaxy                                            [{'iso_639_1': 'en', 'name': 'English'}]   \n",
       "\n",
       "                         vote_average  vote_count        profit  \n",
       "title                                                            \n",
       "The Dark Knight                   8.3       12269  8.195584e+08  \n",
       "Avatar                            7.2       12114  2.550965e+09  \n",
       "The Avengers                      7.4       12000  1.299558e+09  \n",
       "Deadpool                          7.4       11444  7.251130e+08  \n",
       "Guardians of the Galaxy           7.9       10014  6.033286e+08  "
      ]
     },
     "execution_count": 221,
     "metadata": {},
     "output_type": "execute_result"
    }
   ],
   "source": [
    "#data with new profit column\n",
    "movie_clean.head()"
   ]
  },
  {
   "cell_type": "markdown",
   "metadata": {},
   "source": [
    "We produced another heatmap to see the correlation between all the current variables."
   ]
  },
  {
   "cell_type": "code",
   "execution_count": 222,
   "metadata": {},
   "outputs": [
    {
     "data": {
      "image/png": "[encoded data removed]",
      "text/plain": [
       "<Figure size 432x288 with 2 Axes>"
      ]
     },
     "metadata": {
      "needs_background": "light"
     },
     "output_type": "display_data"
    }
   ],
   "source": [
    "ax = plt.axes()\n",
    "sns.heatmap(movie_clean.corr(), cmap = 'BuPu')\n",
    "ax.set_title('Correlation among variables')\n",
    "plt.show()"
   ]
  },
  {
   "cell_type": "markdown",
   "metadata": {},
   "source": [
    "As we can see, budget, revenue and vote_count are heavily correlated with a correlation of about 0.8. This makes sense, because usually movies with larger budget end up with a bigger revenue. The explanation to this is that those movies gets a lot of publicity such as through ads and commercials. Vote_count is also relatively big since more publicity means more people have watched it. However, we must note that rating is not heavily correlated with budget or revenue. This is due to the fact that the popularity of the movie does not have anything to do with the actual quality of it. Lastly, we can see that profit and revenue are very highly related since profit almost the same thing as revenue."
   ]
  },
  {
   "cell_type": "markdown",
   "metadata": {},
   "source": [
    "Then we created a function called counting_values that counts the number of times categorical values appear in the selected columns in order to visualize the frequency of a specific variable in certain movies."
   ]
  },
  {
   "cell_type": "code",
   "execution_count": 223,
   "metadata": {},
   "outputs": [],
   "source": [
    "def counting_values(df, column):\n",
    "    value_count = {}\n",
    "    for row in df[column].dropna():\n",
    "        if len(row) > 0:\n",
    "            for key in row:\n",
    "                if key in value_count:\n",
    "                    value_count[key] += 1\n",
    "                else:\n",
    "                    value_count[key] = 1\n",
    "        else:\n",
    "            pass\n",
    "    return value_count"
   ]
  },
  {
   "cell_type": "code",
   "execution_count": 224,
   "metadata": {},
   "outputs": [],
   "source": [
    "genre = pd.Series(counting_values(movie_clean, 'genres'))\n",
    "country = pd.Series(counting_values(movie_clean, 'production_countries'))\n",
    "company = pd.Series(counting_values(movie_clean, 'production_companies'))"
   ]
  },
  {
   "cell_type": "markdown",
   "metadata": {},
   "source": [
    "We use the counting_values function on variables genre, production_country, and production_company."
   ]
  },
  {
   "cell_type": "code",
   "execution_count": 225,
   "metadata": {},
   "outputs": [],
   "source": [
    "genre_top15 = genre.sort_values(ascending = False).head(15)"
   ]
  },
  {
   "cell_type": "code",
   "execution_count": 226,
   "metadata": {},
   "outputs": [
    {
     "data": {
      "image/png": "[encoded data removed]",
      "text/plain": [
       "<Figure size 432x288 with 1 Axes>"
      ]
     },
     "metadata": {
      "needs_background": "light"
     },
     "output_type": "display_data"
    }
   ],
   "source": [
    "#plot for top genres\n",
    "ax = plt.axes()\n",
    "genre_top15.plot(kind = 'bar')\n",
    "ax.set_title('Top 15 genres')\n",
    "plt.show()"
   ]
  },
  {
   "cell_type": "code",
   "execution_count": 227,
   "metadata": {},
   "outputs": [
    {
     "data": {
      "text/plain": [
       "Action             610\n",
       "Comedy             498\n",
       "Thriller           488\n",
       "Adventure          460\n",
       "Horror             381\n",
       "Science Fiction    308\n",
       "Drama              305\n",
       "Fantasy            244\n",
       "Family             243\n",
       "Crime              219\n",
       "Animation          148\n",
       "Mystery            105\n",
       "Romance            103\n",
       "Music               39\n",
       "War                 31\n",
       "dtype: int64"
      ]
     },
     "execution_count": 227,
     "metadata": {},
     "output_type": "execute_result"
    }
   ],
   "source": [
    "genre_top15"
   ]
  },
  {
   "cell_type": "markdown",
   "metadata": {},
   "source": [
    "Action wins top genre by a relatively large margin, and then comedy and thriller follow close by."
   ]
  },
  {
   "cell_type": "code",
   "execution_count": 228,
   "metadata": {},
   "outputs": [],
   "source": [
    "company_top15 = company.sort_values(ascending = False).head(15)"
   ]
  },
  {
   "cell_type": "code",
   "execution_count": 229,
   "metadata": {},
   "outputs": [
    {
     "data": {
      "image/png": "[encoded data removed]",
      "text/plain": [
       "<Figure size 432x288 with 1 Axes>"
      ]
     },
     "metadata": {
      "needs_background": "light"
     },
     "output_type": "display_data"
    }
   ],
   "source": [
    "#plot for top companies that produced movies\n",
    "ax = plt.axes()\n",
    "company_top15.plot(kind = 'bar')\n",
    "ax.set_title('Top 15 company')\n",
    "plt.show()"
   ]
  },
  {
   "cell_type": "markdown",
   "metadata": {},
   "source": [
    "There is a gradual decrease in productions by company with Universal Pictures being highest."
   ]
  },
  {
   "cell_type": "code",
   "execution_count": 230,
   "metadata": {},
   "outputs": [
    {
     "data": {
      "text/plain": [
       "United Kingdom               170\n",
       "United States of America    1281\n",
       "Australia                     32\n",
       "China                         26\n",
       "New Zealand                    8\n",
       "dtype: int64"
      ]
     },
     "execution_count": 230,
     "metadata": {},
     "output_type": "execute_result"
    }
   ],
   "source": [
    "country.head()"
   ]
  },
  {
   "cell_type": "code",
   "execution_count": 231,
   "metadata": {},
   "outputs": [
    {
     "data": {
      "text/plain": [
       "<matplotlib.axes._subplots.AxesSubplot at 0x7fea903e29b0>"
      ]
     },
     "execution_count": 231,
     "metadata": {},
     "output_type": "execute_result"
    },
    {
     "data": {
      "image/png": "[encoded data removed]",
      "text/plain": [
       "<Figure size 432x288 with 1 Axes>"
      ]
     },
     "metadata": {
      "needs_background": "light"
     },
     "output_type": "display_data"
    }
   ],
   "source": [
    "#plot for top countries that released movies\n",
    "country.sort_values(ascending = False).head(10).plot(kind = 'bar')"
   ]
  },
  {
   "cell_type": "markdown",
   "metadata": {},
   "source": [
    "USA wins by a huge gap in most movies produced by country."
   ]
  },
  {
   "cell_type": "markdown",
   "metadata": {},
   "source": [
    "## Text Mining"
   ]
  },
  {
   "cell_type": "markdown",
   "metadata": {},
   "source": [
    "Here, we will combine what we find from Non-negative Matrix Factorization with Sentiment Analysis to give each review a number rating in order to know which similar movies are best to recommend to those users for our recommendation system."
   ]
  },
  {
   "cell_type": "markdown",
   "metadata": {},
   "source": [
    "### Pre-processing Overview Data "
   ]
  },
  {
   "cell_type": "markdown",
   "metadata": {},
   "source": [
    "We restructured the whole dataset, such as through changing the data type to either double or list. Then we dropped all missing data, and created an overview dataset that only contains columns overview and original movie name to use for making the recommendation system. To prevent the kernal from crashing due to too much data, we chose 2000 observations from the overview dataset. We then pre-processed the overview data, changed all the text into lowercase, as well as, removed punctuation and stopwords. "
   ]
  },
  {
   "cell_type": "code",
   "execution_count": 232,
   "metadata": {},
   "outputs": [
    {
     "name": "stderr",
     "output_type": "stream",
     "text": [
      "[nltk_data] Downloading package wordnet to /home/jovyan/nltk_data...\n",
      "[nltk_data]   Package wordnet is already up-to-date!\n"
     ]
    }
   ],
   "source": [
    "%matplotlib inline\n",
    "import pandas as pd\n",
    "import numpy as np\n",
    "import seaborn as sns\n",
    "import matplotlib.pyplot as plt\n",
    "#from scipy import stats\n",
    "from ast import literal_eval\n",
    "from sklearn.feature_extraction.text import TfidfVectorizer, CountVectorizer\n",
    "#from sklearn.metrics.pairwise import linear_kernel, cosine_similarity\n",
    "#from nltk.stem.snowball import SnowballStemmer\n",
    "#from nltk.stem.wordnet import WordNetLemmatizer\n",
    "#from nltk.corpus import wordnet\n",
    "\n",
    "import nltk\n",
    "nltk.download('wordnet')\n",
    "from nltk.corpus import stopwords\n",
    "#from wordcloud import WordCloud\n",
    "#from textblob import TextBlob\n",
    "#from textblob import Word\n",
    "from nltk.stem import PorterStemmer\n",
    "from sklearn.feature_extraction import stop_words\n",
    "from sklearn.feature_extraction.text import TfidfVectorizer, CountVectorizer\n",
    "from sklearn.decomposition import NMF, LatentDirichletAllocation\n",
    "from sklearn.model_selection import GridSearchCV"
   ]
  },
  {
   "cell_type": "code",
   "execution_count": 233,
   "metadata": {},
   "outputs": [
    {
     "name": "stdout",
     "output_type": "stream",
     "text": [
      "<class 'pandas.core.frame.DataFrame'>\n",
      "RangeIndex: 25964 entries, 0 to 25963\n",
      "Data columns (total 24 columns):\n",
      "adult                    25964 non-null bool\n",
      "belongs_to_collection    3743 non-null object\n",
      "budget                   25964 non-null int64\n",
      "genres                   25964 non-null object\n",
      "homepage                 5423 non-null object\n",
      "id                       25964 non-null int64\n",
      "imdb_id                  25960 non-null object\n",
      "original_language        25962 non-null object\n",
      "original_title           25964 non-null object\n",
      "overview                 25764 non-null object\n",
      "popularity               25964 non-null float64\n",
      "poster_path              25963 non-null object\n",
      "production_companies     25964 non-null object\n",
      "production_countries     25964 non-null object\n",
      "release_date             25961 non-null object\n",
      "revenue                  25964 non-null int64\n",
      "runtime                  25942 non-null float64\n",
      "spoken_languages         25964 non-null object\n",
      "status                   25958 non-null object\n",
      "tagline                  14666 non-null object\n",
      "title                    25964 non-null object\n",
      "video                    25964 non-null bool\n",
      "vote_average             25964 non-null float64\n",
      "vote_count               25964 non-null int64\n",
      "dtypes: bool(2), float64(3), int64(4), object(15)\n",
      "memory usage: 4.4+ MB\n"
     ]
    }
   ],
   "source": [
    "import pandas as pd ## call pandas functions using \"pd\"\n",
    "import numpy as np  ## call numpy functions using \"np\"\n",
    "movie = pd.read_csv(\"movie_metadata_1.csv\")\n",
    "movie.info()"
   ]
  },
  {
   "cell_type": "code",
   "execution_count": 234,
   "metadata": {},
   "outputs": [
    {
     "data": {
      "text/html": [
       "<div>\n",
       "<style scoped>\n",
       "    .dataframe tbody tr th:only-of-type {\n",
       "        vertical-align: middle;\n",
       "    }\n",
       "\n",
       "    .dataframe tbody tr th {\n",
       "        vertical-align: top;\n",
       "    }\n",
       "\n",
       "    .dataframe thead th {\n",
       "        text-align: right;\n",
       "    }\n",
       "</style>\n",
       "<table border=\"1\" class=\"dataframe\">\n",
       "  <thead>\n",
       "    <tr style=\"text-align: right;\">\n",
       "      <th></th>\n",
       "      <th>adult</th>\n",
       "      <th>belongs_to_collection</th>\n",
       "      <th>budget</th>\n",
       "      <th>genres</th>\n",
       "      <th>homepage</th>\n",
       "      <th>id</th>\n",
       "      <th>imdb_id</th>\n",
       "      <th>original_language</th>\n",
       "      <th>original_title</th>\n",
       "      <th>overview</th>\n",
       "      <th>...</th>\n",
       "      <th>release_date</th>\n",
       "      <th>revenue</th>\n",
       "      <th>runtime</th>\n",
       "      <th>spoken_languages</th>\n",
       "      <th>status</th>\n",
       "      <th>tagline</th>\n",
       "      <th>title</th>\n",
       "      <th>video</th>\n",
       "      <th>vote_average</th>\n",
       "      <th>vote_count</th>\n",
       "    </tr>\n",
       "  </thead>\n",
       "  <tbody>\n",
       "    <tr>\n",
       "      <th>0</th>\n",
       "      <td>False</td>\n",
       "      <td>NaN</td>\n",
       "      <td>160000000</td>\n",
       "      <td>[{'id': 28, 'name': 'Action'}, {'id': 53, 'name': 'Thriller'}, {'id': 878, 'name': 'Science Fiction'}, {'id': 9648, 'name': 'Mystery'}, {'id': 12, 'name': 'Adventure'}]</td>\n",
       "      <td>http://inceptionmovie.warnerbros.com/</td>\n",
       "      <td>27205</td>\n",
       "      <td>tt1375666</td>\n",
       "      <td>en</td>\n",
       "      <td>Inception</td>\n",
       "      <td>Cobb, a skilled thief who commits corporate espionage by infiltrating the subconscious of his targets is offered a chance to regain his old life as payment for a task considered to be impossible: \"inception\", the implantation of another person's idea into a target's subconsci...</td>\n",
       "      <td>...</td>\n",
       "      <td>7/14/2010</td>\n",
       "      <td>825532764</td>\n",
       "      <td>148.0</td>\n",
       "      <td>[{'iso_639_1': 'en', 'name': 'English'}]</td>\n",
       "      <td>Released</td>\n",
       "      <td>Your mind is the scene of the crime.</td>\n",
       "      <td>Inception</td>\n",
       "      <td>False</td>\n",
       "      <td>8.1</td>\n",
       "      <td>14075</td>\n",
       "    </tr>\n",
       "    <tr>\n",
       "      <th>1</th>\n",
       "      <td>False</td>\n",
       "      <td>{'id': 263, 'name': 'The Dark Knight Collection', 'poster_path': '/bqS2lMgGkuodIXtDILFWTSWDDpa.jpg', 'backdrop_path': '/xfKot7lqaiW4XpL5TtDlVBA9ei9.jpg'}</td>\n",
       "      <td>185000000</td>\n",
       "      <td>[{'id': 18, 'name': 'Drama'}, {'id': 28, 'name': 'Action'}, {'id': 80, 'name': 'Crime'}, {'id': 53, 'name': 'Thriller'}]</td>\n",
       "      <td>http://thedarkknight.warnerbros.com/dvdsite/</td>\n",
       "      <td>155</td>\n",
       "      <td>tt0468569</td>\n",
       "      <td>en</td>\n",
       "      <td>The Dark Knight</td>\n",
       "      <td>Batman raises the stakes in his war on crime. With the help of Lt. Jim Gordon and District Attorney Harvey Dent, Batman sets out to dismantle the remaining criminal organizations that plague the streets. The partnership proves to be effective, but they soon find themselves pr...</td>\n",
       "      <td>...</td>\n",
       "      <td>7/16/2008</td>\n",
       "      <td>1004558444</td>\n",
       "      <td>152.0</td>\n",
       "      <td>[{'iso_639_1': 'en', 'name': 'English'}, {'iso_639_1': 'zh', 'name': 'æ™®é€šè¯'}]</td>\n",
       "      <td>Released</td>\n",
       "      <td>Why So Serious?</td>\n",
       "      <td>The Dark Knight</td>\n",
       "      <td>False</td>\n",
       "      <td>8.3</td>\n",
       "      <td>12269</td>\n",
       "    </tr>\n",
       "    <tr>\n",
       "      <th>2</th>\n",
       "      <td>False</td>\n",
       "      <td>{'id': 87096, 'name': 'Avatar Collection', 'poster_path': '/nslJVsO58Etqkk17oXMuVK4gNOF.jpg', 'backdrop_path': '/9s4BM48NweGFrIRE6haIul0YJ9f.jpg'}</td>\n",
       "      <td>237000000</td>\n",
       "      <td>[{'id': 28, 'name': 'Action'}, {'id': 12, 'name': 'Adventure'}, {'id': 14, 'name': 'Fantasy'}, {'id': 878, 'name': 'Science Fiction'}]</td>\n",
       "      <td>http://www.avatarmovie.com/</td>\n",
       "      <td>19995</td>\n",
       "      <td>tt0499549</td>\n",
       "      <td>en</td>\n",
       "      <td>Avatar</td>\n",
       "      <td>In the 22nd century, a paraplegic Marine is dispatched to the moon Pandora on a unique mission, but becomes torn between following orders and protecting an alien civilization.</td>\n",
       "      <td>...</td>\n",
       "      <td>12/10/2009</td>\n",
       "      <td>2787965087</td>\n",
       "      <td>162.0</td>\n",
       "      <td>[{'iso_639_1': 'en', 'name': 'English'}, {'iso_639_1': 'es', 'name': 'EspaÃ±ol'}]</td>\n",
       "      <td>Released</td>\n",
       "      <td>Enter the World of Pandora.</td>\n",
       "      <td>Avatar</td>\n",
       "      <td>False</td>\n",
       "      <td>7.2</td>\n",
       "      <td>12114</td>\n",
       "    </tr>\n",
       "  </tbody>\n",
       "</table>\n",
       "<p>3 rows × 24 columns</p>\n",
       "</div>"
      ],
      "text/plain": [
       "   adult  \\\n",
       "0  False   \n",
       "1  False   \n",
       "2  False   \n",
       "\n",
       "                                                                                                                                       belongs_to_collection  \\\n",
       "0                                                                                                                                                        NaN   \n",
       "1  {'id': 263, 'name': 'The Dark Knight Collection', 'poster_path': '/bqS2lMgGkuodIXtDILFWTSWDDpa.jpg', 'backdrop_path': '/xfKot7lqaiW4XpL5TtDlVBA9ei9.jpg'}   \n",
       "2         {'id': 87096, 'name': 'Avatar Collection', 'poster_path': '/nslJVsO58Etqkk17oXMuVK4gNOF.jpg', 'backdrop_path': '/9s4BM48NweGFrIRE6haIul0YJ9f.jpg'}   \n",
       "\n",
       "      budget  \\\n",
       "0  160000000   \n",
       "1  185000000   \n",
       "2  237000000   \n",
       "\n",
       "                                                                                                                                                                     genres  \\\n",
       "0  [{'id': 28, 'name': 'Action'}, {'id': 53, 'name': 'Thriller'}, {'id': 878, 'name': 'Science Fiction'}, {'id': 9648, 'name': 'Mystery'}, {'id': 12, 'name': 'Adventure'}]   \n",
       "1                                                  [{'id': 18, 'name': 'Drama'}, {'id': 28, 'name': 'Action'}, {'id': 80, 'name': 'Crime'}, {'id': 53, 'name': 'Thriller'}]   \n",
       "2                                    [{'id': 28, 'name': 'Action'}, {'id': 12, 'name': 'Adventure'}, {'id': 14, 'name': 'Fantasy'}, {'id': 878, 'name': 'Science Fiction'}]   \n",
       "\n",
       "                                       homepage     id    imdb_id  \\\n",
       "0         http://inceptionmovie.warnerbros.com/  27205  tt1375666   \n",
       "1  http://thedarkknight.warnerbros.com/dvdsite/    155  tt0468569   \n",
       "2                   http://www.avatarmovie.com/  19995  tt0499549   \n",
       "\n",
       "  original_language   original_title  \\\n",
       "0                en        Inception   \n",
       "1                en  The Dark Knight   \n",
       "2                en           Avatar   \n",
       "\n",
       "                                                                                                                                                                                                                                                                                  overview  \\\n",
       "0  Cobb, a skilled thief who commits corporate espionage by infiltrating the subconscious of his targets is offered a chance to regain his old life as payment for a task considered to be impossible: \"inception\", the implantation of another person's idea into a target's subconsci...   \n",
       "1  Batman raises the stakes in his war on crime. With the help of Lt. Jim Gordon and District Attorney Harvey Dent, Batman sets out to dismantle the remaining criminal organizations that plague the streets. The partnership proves to be effective, but they soon find themselves pr...   \n",
       "2                                                                                                          In the 22nd century, a paraplegic Marine is dispatched to the moon Pandora on a unique mission, but becomes torn between following orders and protecting an alien civilization.   \n",
       "\n",
       "   ...  release_date     revenue runtime  \\\n",
       "0  ...     7/14/2010   825532764   148.0   \n",
       "1  ...     7/16/2008  1004558444   152.0   \n",
       "2  ...    12/10/2009  2787965087   162.0   \n",
       "\n",
       "                                                                     spoken_languages  \\\n",
       "0                                            [{'iso_639_1': 'en', 'name': 'English'}]   \n",
       "1  [{'iso_639_1': 'en', 'name': 'English'}, {'iso_639_1': 'zh', 'name': 'æ™®é€šè¯'}]   \n",
       "2   [{'iso_639_1': 'en', 'name': 'English'}, {'iso_639_1': 'es', 'name': 'EspaÃ±ol'}]   \n",
       "\n",
       "     status                               tagline            title  video  \\\n",
       "0  Released  Your mind is the scene of the crime.        Inception  False   \n",
       "1  Released                       Why So Serious?  The Dark Knight  False   \n",
       "2  Released           Enter the World of Pandora.           Avatar  False   \n",
       "\n",
       "  vote_average vote_count  \n",
       "0          8.1      14075  \n",
       "1          8.3      12269  \n",
       "2          7.2      12114  \n",
       "\n",
       "[3 rows x 24 columns]"
      ]
     },
     "execution_count": 234,
     "metadata": {},
     "output_type": "execute_result"
    }
   ],
   "source": [
    "movie.iloc[0:3]"
   ]
  },
  {
   "cell_type": "code",
   "execution_count": 235,
   "metadata": {},
   "outputs": [],
   "source": [
    "movie['genres'] = movie['genres'].fillna('[]').apply(literal_eval).apply(lambda x: [i['name'] for i in x] if isinstance(x, list) else [])\n",
    "movie['production_countries'] = movie['production_countries'].fillna('[]').apply(literal_eval).apply(lambda x: [i['name'] for i in x] if isinstance(x, list) else [])\n",
    "movie['production_companies'] = movie['production_companies'].fillna('[]').apply(literal_eval).apply(lambda x: [i['name'] for i in x] if isinstance(x, list) else [])"
   ]
  },
  {
   "cell_type": "code",
   "execution_count": 236,
   "metadata": {},
   "outputs": [
    {
     "data": {
      "text/plain": [
       "0                                                                        [Legendary Pictures, Warner Bros., Syncopy]\n",
       "1                                           [DC Comics, Legendary Pictures, Warner Bros., DC Entertainment, Syncopy]\n",
       "2    [Ingenious Film Partners, Twentieth Century Fox Film Corporation, Dune Entertainment, Lightstorm Entertainment]\n",
       "Name: production_companies, dtype: object"
      ]
     },
     "execution_count": 236,
     "metadata": {},
     "output_type": "execute_result"
    }
   ],
   "source": [
    "movie.iloc[0:3].production_companies"
   ]
  },
  {
   "cell_type": "code",
   "execution_count": 237,
   "metadata": {},
   "outputs": [
    {
     "data": {
      "text/plain": [
       "['adult',\n",
       " 'belongs_to_collection',\n",
       " 'budget',\n",
       " 'genres',\n",
       " 'homepage',\n",
       " 'id',\n",
       " 'imdb_id',\n",
       " 'original_language',\n",
       " 'original_title',\n",
       " 'overview',\n",
       " 'popularity',\n",
       " 'poster_path',\n",
       " 'production_companies',\n",
       " 'production_countries',\n",
       " 'release_date',\n",
       " 'revenue',\n",
       " 'runtime',\n",
       " 'spoken_languages',\n",
       " 'status',\n",
       " 'tagline',\n",
       " 'title',\n",
       " 'video',\n",
       " 'vote_average',\n",
       " 'vote_count']"
      ]
     },
     "execution_count": 237,
     "metadata": {},
     "output_type": "execute_result"
    }
   ],
   "source": [
    "#variables that we have in the dataset so far\n",
    "list(movie.columns.values)"
   ]
  },
  {
   "cell_type": "code",
   "execution_count": 238,
   "metadata": {},
   "outputs": [],
   "source": [
    "movie_sub=movie[['adult',\n",
    " 'budget',\n",
    " 'genres',\n",
    " 'id',\n",
    " 'imdb_id',\n",
    " 'original_language',\n",
    " 'original_title',\n",
    " 'overview',\n",
    " 'popularity',\n",
    " 'production_companies',\n",
    " 'production_countries',\n",
    " 'release_date',\n",
    " 'revenue',\n",
    " 'runtime',\n",
    " 'status',\n",
    " 'title',\n",
    " 'video',\n",
    " 'vote_average',\n",
    " 'vote_count']]"
   ]
  },
  {
   "cell_type": "code",
   "execution_count": 239,
   "metadata": {},
   "outputs": [
    {
     "data": {
      "text/html": [
       "<div>\n",
       "<style scoped>\n",
       "    .dataframe tbody tr th:only-of-type {\n",
       "        vertical-align: middle;\n",
       "    }\n",
       "\n",
       "    .dataframe tbody tr th {\n",
       "        vertical-align: top;\n",
       "    }\n",
       "\n",
       "    .dataframe thead th {\n",
       "        text-align: right;\n",
       "    }\n",
       "</style>\n",
       "<table border=\"1\" class=\"dataframe\">\n",
       "  <thead>\n",
       "    <tr style=\"text-align: right;\">\n",
       "      <th></th>\n",
       "      <th>adult</th>\n",
       "      <th>budget</th>\n",
       "      <th>genres</th>\n",
       "      <th>id</th>\n",
       "      <th>imdb_id</th>\n",
       "      <th>original_language</th>\n",
       "      <th>original_title</th>\n",
       "      <th>overview</th>\n",
       "      <th>popularity</th>\n",
       "      <th>production_companies</th>\n",
       "      <th>production_countries</th>\n",
       "      <th>release_date</th>\n",
       "      <th>revenue</th>\n",
       "      <th>runtime</th>\n",
       "      <th>status</th>\n",
       "      <th>title</th>\n",
       "      <th>video</th>\n",
       "      <th>vote_average</th>\n",
       "      <th>vote_count</th>\n",
       "    </tr>\n",
       "  </thead>\n",
       "  <tbody>\n",
       "    <tr>\n",
       "      <th>0</th>\n",
       "      <td>False</td>\n",
       "      <td>160000000</td>\n",
       "      <td>[Action, Thriller, Science Fiction, Mystery, Adventure]</td>\n",
       "      <td>27205</td>\n",
       "      <td>tt1375666</td>\n",
       "      <td>en</td>\n",
       "      <td>Inception</td>\n",
       "      <td>Cobb, a skilled thief who commits corporate espionage by infiltrating the subconscious of his targets is offered a chance to regain his old life as payment for a task considered to be impossible: \"inception\", the implantation of another person's idea into a target's subconsci...</td>\n",
       "      <td>29.108149</td>\n",
       "      <td>[Legendary Pictures, Warner Bros., Syncopy]</td>\n",
       "      <td>[United Kingdom, United States of America]</td>\n",
       "      <td>7/14/2010</td>\n",
       "      <td>825532764</td>\n",
       "      <td>148.0</td>\n",
       "      <td>Released</td>\n",
       "      <td>Inception</td>\n",
       "      <td>False</td>\n",
       "      <td>8.1</td>\n",
       "      <td>14075</td>\n",
       "    </tr>\n",
       "    <tr>\n",
       "      <th>1</th>\n",
       "      <td>False</td>\n",
       "      <td>185000000</td>\n",
       "      <td>[Drama, Action, Crime, Thriller]</td>\n",
       "      <td>155</td>\n",
       "      <td>tt0468569</td>\n",
       "      <td>en</td>\n",
       "      <td>The Dark Knight</td>\n",
       "      <td>Batman raises the stakes in his war on crime. With the help of Lt. Jim Gordon and District Attorney Harvey Dent, Batman sets out to dismantle the remaining criminal organizations that plague the streets. The partnership proves to be effective, but they soon find themselves pr...</td>\n",
       "      <td>123.167259</td>\n",
       "      <td>[DC Comics, Legendary Pictures, Warner Bros., DC Entertainment, Syncopy]</td>\n",
       "      <td>[United Kingdom, United States of America]</td>\n",
       "      <td>7/16/2008</td>\n",
       "      <td>1004558444</td>\n",
       "      <td>152.0</td>\n",
       "      <td>Released</td>\n",
       "      <td>The Dark Knight</td>\n",
       "      <td>False</td>\n",
       "      <td>8.3</td>\n",
       "      <td>12269</td>\n",
       "    </tr>\n",
       "    <tr>\n",
       "      <th>2</th>\n",
       "      <td>False</td>\n",
       "      <td>237000000</td>\n",
       "      <td>[Action, Adventure, Fantasy, Science Fiction]</td>\n",
       "      <td>19995</td>\n",
       "      <td>tt0499549</td>\n",
       "      <td>en</td>\n",
       "      <td>Avatar</td>\n",
       "      <td>In the 22nd century, a paraplegic Marine is dispatched to the moon Pandora on a unique mission, but becomes torn between following orders and protecting an alien civilization.</td>\n",
       "      <td>185.070892</td>\n",
       "      <td>[Ingenious Film Partners, Twentieth Century Fox Film Corporation, Dune Entertainment, Lightstorm Entertainment]</td>\n",
       "      <td>[United States of America, United Kingdom]</td>\n",
       "      <td>12/10/2009</td>\n",
       "      <td>2787965087</td>\n",
       "      <td>162.0</td>\n",
       "      <td>Released</td>\n",
       "      <td>Avatar</td>\n",
       "      <td>False</td>\n",
       "      <td>7.2</td>\n",
       "      <td>12114</td>\n",
       "    </tr>\n",
       "  </tbody>\n",
       "</table>\n",
       "</div>"
      ],
      "text/plain": [
       "   adult     budget                                                   genres  \\\n",
       "0  False  160000000  [Action, Thriller, Science Fiction, Mystery, Adventure]   \n",
       "1  False  185000000                         [Drama, Action, Crime, Thriller]   \n",
       "2  False  237000000            [Action, Adventure, Fantasy, Science Fiction]   \n",
       "\n",
       "      id    imdb_id original_language   original_title  \\\n",
       "0  27205  tt1375666                en        Inception   \n",
       "1    155  tt0468569                en  The Dark Knight   \n",
       "2  19995  tt0499549                en           Avatar   \n",
       "\n",
       "                                                                                                                                                                                                                                                                                  overview  \\\n",
       "0  Cobb, a skilled thief who commits corporate espionage by infiltrating the subconscious of his targets is offered a chance to regain his old life as payment for a task considered to be impossible: \"inception\", the implantation of another person's idea into a target's subconsci...   \n",
       "1  Batman raises the stakes in his war on crime. With the help of Lt. Jim Gordon and District Attorney Harvey Dent, Batman sets out to dismantle the remaining criminal organizations that plague the streets. The partnership proves to be effective, but they soon find themselves pr...   \n",
       "2                                                                                                          In the 22nd century, a paraplegic Marine is dispatched to the moon Pandora on a unique mission, but becomes torn between following orders and protecting an alien civilization.   \n",
       "\n",
       "   popularity  \\\n",
       "0   29.108149   \n",
       "1  123.167259   \n",
       "2  185.070892   \n",
       "\n",
       "                                                                                              production_companies  \\\n",
       "0                                                                      [Legendary Pictures, Warner Bros., Syncopy]   \n",
       "1                                         [DC Comics, Legendary Pictures, Warner Bros., DC Entertainment, Syncopy]   \n",
       "2  [Ingenious Film Partners, Twentieth Century Fox Film Corporation, Dune Entertainment, Lightstorm Entertainment]   \n",
       "\n",
       "                         production_countries release_date     revenue  \\\n",
       "0  [United Kingdom, United States of America]    7/14/2010   825532764   \n",
       "1  [United Kingdom, United States of America]    7/16/2008  1004558444   \n",
       "2  [United States of America, United Kingdom]   12/10/2009  2787965087   \n",
       "\n",
       "   runtime    status            title  video  vote_average  vote_count  \n",
       "0    148.0  Released        Inception  False           8.1       14075  \n",
       "1    152.0  Released  The Dark Knight  False           8.3       12269  \n",
       "2    162.0  Released           Avatar  False           7.2       12114  "
      ]
     },
     "execution_count": 239,
     "metadata": {},
     "output_type": "execute_result"
    }
   ],
   "source": [
    "movie_sub.iloc[0:3]"
   ]
  },
  {
   "cell_type": "code",
   "execution_count": 240,
   "metadata": {},
   "outputs": [
    {
     "data": {
      "text/plain": [
       "25751"
      ]
     },
     "execution_count": 240,
     "metadata": {},
     "output_type": "execute_result"
    }
   ],
   "source": [
    "#remove missing value\n",
    "movie_1=movie_sub.dropna()\n",
    "len(movie_1)"
   ]
  },
  {
   "cell_type": "code",
   "execution_count": 241,
   "metadata": {},
   "outputs": [],
   "source": [
    "#begin creating our recommendation system based on the first 2000 observations \n",
    "movie_overview=movie_1.iloc[0:2000,:][[\"original_title\",\"overview\"]]"
   ]
  },
  {
   "cell_type": "code",
   "execution_count": 242,
   "metadata": {},
   "outputs": [],
   "source": [
    "# use natural language process package\n",
    "import nltk\n",
    "from nltk.tag import pos_tag\n",
    "from nltk.tokenize import word_tokenize\n",
    "from nltk.tokenize import sent_tokenize\n",
    "\n",
    "#instaLL wordcloud using pip install wordcloud\n",
    "from wordcloud import WordCloud"
   ]
  },
  {
   "cell_type": "code",
   "execution_count": 243,
   "metadata": {},
   "outputs": [
    {
     "name": "stderr",
     "output_type": "stream",
     "text": [
      "[nltk_data] Downloading package punkt to /home/jovyan/nltk_data...\n",
      "[nltk_data]   Package punkt is already up-to-date!\n"
     ]
    },
    {
     "data": {
      "text/plain": [
       "True"
      ]
     },
     "execution_count": 243,
     "metadata": {},
     "output_type": "execute_result"
    }
   ],
   "source": [
    "import nltk\n",
    "nltk.download('punkt')"
   ]
  },
  {
   "cell_type": "code",
   "execution_count": 244,
   "metadata": {},
   "outputs": [
    {
     "data": {
      "text/html": [
       "<div>\n",
       "<style scoped>\n",
       "    .dataframe tbody tr th:only-of-type {\n",
       "        vertical-align: middle;\n",
       "    }\n",
       "\n",
       "    .dataframe tbody tr th {\n",
       "        vertical-align: top;\n",
       "    }\n",
       "\n",
       "    .dataframe thead th {\n",
       "        text-align: right;\n",
       "    }\n",
       "</style>\n",
       "<table border=\"1\" class=\"dataframe\">\n",
       "  <thead>\n",
       "    <tr style=\"text-align: right;\">\n",
       "      <th></th>\n",
       "      <th>original_title</th>\n",
       "      <th>overview</th>\n",
       "    </tr>\n",
       "  </thead>\n",
       "  <tbody>\n",
       "    <tr>\n",
       "      <th>0</th>\n",
       "      <td>Inception</td>\n",
       "      <td>Cobb, a skilled thief who commits corporate espionage by infiltrating the subconscious of his targets is offered a chance to regain his old life as payment for a task considered to be impossible: \"inception\", the implantation of another person's idea into a target's subconsci...</td>\n",
       "    </tr>\n",
       "    <tr>\n",
       "      <th>1</th>\n",
       "      <td>The Dark Knight</td>\n",
       "      <td>Batman raises the stakes in his war on crime. With the help of Lt. Jim Gordon and District Attorney Harvey Dent, Batman sets out to dismantle the remaining criminal organizations that plague the streets. The partnership proves to be effective, but they soon find themselves pr...</td>\n",
       "    </tr>\n",
       "    <tr>\n",
       "      <th>2</th>\n",
       "      <td>Avatar</td>\n",
       "      <td>In the 22nd century, a paraplegic Marine is dispatched to the moon Pandora on a unique mission, but becomes torn between following orders and protecting an alien civilization.</td>\n",
       "    </tr>\n",
       "  </tbody>\n",
       "</table>\n",
       "</div>"
      ],
      "text/plain": [
       "    original_title  \\\n",
       "0        Inception   \n",
       "1  The Dark Knight   \n",
       "2           Avatar   \n",
       "\n",
       "                                                                                                                                                                                                                                                                                  overview  \n",
       "0  Cobb, a skilled thief who commits corporate espionage by infiltrating the subconscious of his targets is offered a chance to regain his old life as payment for a task considered to be impossible: \"inception\", the implantation of another person's idea into a target's subconsci...  \n",
       "1  Batman raises the stakes in his war on crime. With the help of Lt. Jim Gordon and District Attorney Harvey Dent, Batman sets out to dismantle the remaining criminal organizations that plague the streets. The partnership proves to be effective, but they soon find themselves pr...  \n",
       "2                                                                                                          In the 22nd century, a paraplegic Marine is dispatched to the moon Pandora on a unique mission, but becomes torn between following orders and protecting an alien civilization.  "
      ]
     },
     "execution_count": 244,
     "metadata": {},
     "output_type": "execute_result"
    }
   ],
   "source": [
    "movie_overview.iloc[0:3]"
   ]
  },
  {
   "cell_type": "code",
   "execution_count": 245,
   "metadata": {},
   "outputs": [],
   "source": [
    "#Lowercase:\n",
    "movie_overview['overview'] = movie_overview['overview'].apply(lambda x: \" \".join(x.lower() for x in x.split()))"
   ]
  },
  {
   "cell_type": "code",
   "execution_count": 246,
   "metadata": {},
   "outputs": [],
   "source": [
    "# Removing punctuation\n",
    "movie_overview['overview'] = movie_overview['overview'].str.replace('[^\\w\\s]','')"
   ]
  },
  {
   "cell_type": "code",
   "execution_count": 247,
   "metadata": {},
   "outputs": [],
   "source": [
    "#remove stopwords\n",
    "stop_nltk = list(stop_words.ENGLISH_STOP_WORDS)\n",
    "movie_overview['overview'] = movie_overview['overview'].apply(lambda x: \" \".join(x for x in x.split() if x not in stop_nltk))"
   ]
  },
  {
   "cell_type": "code",
   "execution_count": 248,
   "metadata": {},
   "outputs": [
    {
     "data": {
      "text/plain": [
       "'cobb skilled thief commits corporate espionage infiltrating subconscious targets offered chance regain old life payment task considered impossible inception implantation persons idea targets subconscious'"
      ]
     },
     "execution_count": 248,
     "metadata": {},
     "output_type": "execute_result"
    }
   ],
   "source": [
    "movie_overview[\"overview\"][0]"
   ]
  },
  {
   "cell_type": "markdown",
   "metadata": {},
   "source": [
    "### WordCloud"
   ]
  },
  {
   "cell_type": "markdown",
   "metadata": {},
   "source": [
    "After preprocessing, we created wordcloud to visualize the high frequency words in overview, that way we can spot the important topics easier. These high frequency words that appear large helped a lot with our cleaned data. From this WordCloud, we can see how words conveys a lot of important information about the movie that way we know that the data is well structured for future analysis. "
   ]
  },
  {
   "cell_type": "code",
   "execution_count": 249,
   "metadata": {},
   "outputs": [
    {
     "name": "stderr",
     "output_type": "stream",
     "text": [
      "/opt/conda/lib/python3.6/site-packages/ipykernel_launcher.py:1: FutureWarning: The signature of `Series.to_csv` was aligned to that of `DataFrame.to_csv`, and argument 'header' will change its default value from False to True: please pass an explicit value to suppress this warning.\n",
      "  \"\"\"Entry point for launching an IPython kernel.\n"
     ]
    }
   ],
   "source": [
    "movie_overview[\"overview\"].to_csv('overview_clean.txt', index=False, sep=' ', header=None)"
   ]
  },
  {
   "cell_type": "code",
   "execution_count": 250,
   "metadata": {},
   "outputs": [],
   "source": [
    "f = open('overview_clean.txt','r',encoding='utf-8').read()\n",
    "word_tokens = word_tokenize(f) \n",
    "wl_space_split = \" \".join(word_tokens)"
   ]
  },
  {
   "cell_type": "code",
   "execution_count": 251,
   "metadata": {},
   "outputs": [
    {
     "data": {
      "image/png": "[encoded data removed]",
      "text/plain": [
       "<Figure size 432x288 with 1 Axes>"
      ]
     },
     "metadata": {
      "needs_background": "light"
     },
     "output_type": "display_data"
    },
    {
     "data": {
      "text/plain": [
       "<wordcloud.wordcloud.WordCloud at 0x7fea986d3ef0>"
      ]
     },
     "execution_count": 251,
     "metadata": {},
     "output_type": "execute_result"
    }
   ],
   "source": [
    "#create wordcloud\n",
    "overview_wc = WordCloud(\n",
    "        background_color=\"white\",\n",
    "        width=1500,             \n",
    "        height=960,              \n",
    "        margin=10               \n",
    "        ).generate(wl_space_split)\n",
    "plt.figure()\n",
    "plt.imshow(overview_wc)\n",
    "plt.axis(\"off\")\n",
    "plt.show()\n",
    "overview_wc.to_file('overview_wc.png')"
   ]
  },
  {
   "cell_type": "markdown",
   "metadata": {},
   "source": [
    "### NMF "
   ]
  },
  {
   "cell_type": "markdown",
   "metadata": {},
   "source": [
    "Here, we only used Non-negative Matrix Factorization on the cleaned data for topic modelling. This way we can find clear patterns and structures in topic. First, we use TF-IDF method to convert our cleaned overview into words and then we run NMF to get important topics. We extracted 10 topics as shown, and the topics extracted are easily recognizable, such as topic 2 being about war. "
   ]
  },
  {
   "cell_type": "code",
   "execution_count": 252,
   "metadata": {},
   "outputs": [],
   "source": [
    "# Create a function to display topics in a clear manner\n",
    "def display_topics(model, feature_names, no_top_words):\n",
    "    for topic_idx, topic in enumerate(model.components_):\n",
    "        print(\"Topic %d:\" % (topic_idx + 1))\n",
    "        print(\" \".join([feature_names[i] for i in topic.argsort()[:-no_top_words - 1:-1]]))\n",
    "        \n",
    "no_features = 1000\n",
    "no_topics = 5\n",
    "no_top_words = 10\n",
    "\n",
    "## code found in https://gist.github.com/aneesha/a54e7e182ddf564f6a5c1fe50db556a2"
   ]
  },
  {
   "cell_type": "code",
   "execution_count": 253,
   "metadata": {},
   "outputs": [],
   "source": [
    "# TFIDF for NMF (EXPERIMENATION)\n",
    "\n",
    "tfidf_vectorizer = TfidfVectorizer(max_df=0.95, min_df=10)\n",
    "tfidf_nmf = tfidf_vectorizer.fit_transform(movie_overview[\"overview\"])\n",
    "\n",
    "\n",
    "import sklearn.decomposition as skld\n",
    "model = skld.NMF(n_components=10, init='nndsvda', max_iter=500, random_state=0)\n",
    "# NMF algorithm (EXPERIMENATION)\n",
    "nmf = model.fit_transform(tfidf_nmf)\n",
    "tfidf_feature_names = tfidf_vectorizer.get_feature_names()"
   ]
  },
  {
   "cell_type": "code",
   "execution_count": 254,
   "metadata": {},
   "outputs": [
    {
     "name": "stdout",
     "output_type": "stream",
     "text": [
      "Topic 1:\n",
      "life way meets live changes decides son love discovers turned\n",
      "Topic 2:\n",
      "world war ii forces known set japanese film mysterious takes\n",
      "Topic 3:\n",
      "story love true based falls film tells american century tale\n",
      "Topic 4:\n",
      "family home child parents son father children protect house childhood\n",
      "Topic 5:\n",
      "new york city years gets eve start lives alice big\n",
      "Topic 6:\n",
      "young woman father boy finds named help mysterious daughter home\n",
      "Topic 7:\n",
      "agent fbi police cop hes detective drug case undercover murder\n",
      "Topic 8:\n",
      "friends school high best day girl night friend party just\n",
      "Topic 9:\n",
      "man woman alter takes years wife murder powerful days revenge\n",
      "Topic 10:\n",
      "team earth mission planet alien crew evil group battle stop\n"
     ]
    }
   ],
   "source": [
    "#show the topics extracted \n",
    "display_topics(model, tfidf_feature_names, no_top_words)"
   ]
  },
  {
   "cell_type": "markdown",
   "metadata": {},
   "source": [
    "Through the TF-IDF and NMF process, we can get two matrices. One matrix is constructed as sentence by words and the other is constructed as words by topics. By combining these two matrices, we get a matrix of topics by sentence.  Next, we substitute the sentence with corresponding movie name to create a chart that includes the correlations between the extracted 10 topics from above and all the 2000 movies in the overview dataset. Shown below is a the chart of 8 random movies with the distribution for each topic. Looking into each column, we can see that some movies have strong correlation with a specific topic, while some have multiple correlated topics. For instance, the movie “Inception” is more about topic 1 than the other 9 topics. \n"
   ]
  },
  {
   "cell_type": "code",
   "execution_count": 255,
   "metadata": {},
   "outputs": [],
   "source": [
    "W=np.matrix(tfidf_nmf.toarray())\n",
    "H=np.matrix(model.components_.T)"
   ]
  },
  {
   "cell_type": "code",
   "execution_count": 256,
   "metadata": {},
   "outputs": [
    {
     "data": {
      "text/plain": [
       "(2000, 1042)"
      ]
     },
     "execution_count": 256,
     "metadata": {},
     "output_type": "execute_result"
    }
   ],
   "source": [
    "W.shape \n",
    "#W is constructed as 2000 preprocessed overviews and 1042 extracted words through tf-idf "
   ]
  },
  {
   "cell_type": "code",
   "execution_count": null,
   "metadata": {},
   "outputs": [
    {
     "data": {
      "text/plain": [
       "(1042, 10)"
      ]
     },
     "execution_count": 257,
     "metadata": {},
     "output_type": "execute_result"
    }
   ],
   "source": [
    "H.shape \n",
    "#H is constructed as 1042 words by the ten topics extracted using NMF methods"
   ]
  },
  {
   "cell_type": "code",
   "execution_count": null,
   "metadata": {},
   "outputs": [],
   "source": [
    "X_hat=W@H \n",
    "# getting the topics and moview overviews' matrix by "
   ]
  },
  {
   "cell_type": "code",
   "execution_count": null,
   "metadata": {},
   "outputs": [],
   "source": [
    "X=X_hat.T"
   ]
  },
  {
   "cell_type": "code",
   "execution_count": null,
   "metadata": {},
   "outputs": [
    {
     "data": {
      "text/plain": [
       "(10, 2000)"
      ]
     },
     "execution_count": 260,
     "metadata": {},
     "output_type": "execute_result"
    }
   ],
   "source": [
    "X.shape"
   ]
  },
  {
   "cell_type": "code",
   "execution_count": null,
   "metadata": {},
   "outputs": [
    {
     "data": {
      "text/html": [
       "<div>\n",
       "<style scoped>\n",
       "    .dataframe tbody tr th:only-of-type {\n",
       "        vertical-align: middle;\n",
       "    }\n",
       "\n",
       "    .dataframe tbody tr th {\n",
       "        vertical-align: top;\n",
       "    }\n",
       "\n",
       "    .dataframe thead th {\n",
       "        text-align: right;\n",
       "    }\n",
       "</style>\n",
       "<table border=\"1\" class=\"dataframe\">\n",
       "  <thead>\n",
       "    <tr style=\"text-align: right;\">\n",
       "      <th></th>\n",
       "      <th>Inception</th>\n",
       "      <th>The Dark Knight</th>\n",
       "      <th>Avatar</th>\n",
       "      <th>The Avengers</th>\n",
       "      <th>Deadpool</th>\n",
       "      <th>Interstellar</th>\n",
       "      <th>Django Unchained</th>\n",
       "      <th>Guardians of the Galaxy</th>\n",
       "      <th>Fight Club</th>\n",
       "      <th>The Hunger Games</th>\n",
       "      <th>...</th>\n",
       "      <th>G-Force</th>\n",
       "      <th>Cop Out</th>\n",
       "      <th>WarGames</th>\n",
       "      <th>The Kingdom</th>\n",
       "      <th>Lars and the Real Girl</th>\n",
       "      <th>Hereafter</th>\n",
       "      <th>The Lazarus Effect</th>\n",
       "      <th>Skyline</th>\n",
       "      <th>The Hundred-Foot Journey</th>\n",
       "      <th>Citizenfour</th>\n",
       "    </tr>\n",
       "  </thead>\n",
       "  <tbody>\n",
       "    <tr>\n",
       "      <th>topic1</th>\n",
       "      <td>0.612448</td>\n",
       "      <td>0.042924</td>\n",
       "      <td>0.018032</td>\n",
       "      <td>0.077441</td>\n",
       "      <td>0.529834</td>\n",
       "      <td>0.084915</td>\n",
       "      <td>0.081320</td>\n",
       "      <td>0.137218</td>\n",
       "      <td>0.205003</td>\n",
       "      <td>0.469914</td>\n",
       "      <td>...</td>\n",
       "      <td>0.001703</td>\n",
       "      <td>0.137006</td>\n",
       "      <td>0.036127</td>\n",
       "      <td>0.013992</td>\n",
       "      <td>0.225530</td>\n",
       "      <td>0.128470</td>\n",
       "      <td>0.179360</td>\n",
       "      <td>0.147513</td>\n",
       "      <td>0.020972</td>\n",
       "      <td>0.083145</td>\n",
       "    </tr>\n",
       "    <tr>\n",
       "      <th>topic2</th>\n",
       "      <td>0.004585</td>\n",
       "      <td>0.199786</td>\n",
       "      <td>0.020211</td>\n",
       "      <td>0.262049</td>\n",
       "      <td>0.056793</td>\n",
       "      <td>0.052821</td>\n",
       "      <td>0.028338</td>\n",
       "      <td>0.024136</td>\n",
       "      <td>0.021670</td>\n",
       "      <td>0.232318</td>\n",
       "      <td>...</td>\n",
       "      <td>0.513841</td>\n",
       "      <td>0.022195</td>\n",
       "      <td>0.116981</td>\n",
       "      <td>0.035072</td>\n",
       "      <td>0.026278</td>\n",
       "      <td>0.048121</td>\n",
       "      <td>0.030591</td>\n",
       "      <td>0.289130</td>\n",
       "      <td>0.027543</td>\n",
       "      <td>0.029860</td>\n",
       "    </tr>\n",
       "    <tr>\n",
       "      <th>topic3</th>\n",
       "      <td>0.035467</td>\n",
       "      <td>0.018050</td>\n",
       "      <td>0.066131</td>\n",
       "      <td>0.051201</td>\n",
       "      <td>0.263146</td>\n",
       "      <td>0.010262</td>\n",
       "      <td>0.025095</td>\n",
       "      <td>0.081968</td>\n",
       "      <td>0.003239</td>\n",
       "      <td>0.143525</td>\n",
       "      <td>...</td>\n",
       "      <td>0.009262</td>\n",
       "      <td>0.039335</td>\n",
       "      <td>0.064661</td>\n",
       "      <td>0.070588</td>\n",
       "      <td>0.708203</td>\n",
       "      <td>0.158810</td>\n",
       "      <td>0.044991</td>\n",
       "      <td>0.023737</td>\n",
       "      <td>0.368319</td>\n",
       "      <td>0.135471</td>\n",
       "    </tr>\n",
       "    <tr>\n",
       "      <th>topic4</th>\n",
       "      <td>0.017615</td>\n",
       "      <td>0.025084</td>\n",
       "      <td>0.021302</td>\n",
       "      <td>0.043743</td>\n",
       "      <td>0.035347</td>\n",
       "      <td>0.043881</td>\n",
       "      <td>0.040514</td>\n",
       "      <td>0.046834</td>\n",
       "      <td>0.015717</td>\n",
       "      <td>0.150925</td>\n",
       "      <td>...</td>\n",
       "      <td>0.033236</td>\n",
       "      <td>0.023991</td>\n",
       "      <td>0.014202</td>\n",
       "      <td>0.015517</td>\n",
       "      <td>0.038770</td>\n",
       "      <td>0.054269</td>\n",
       "      <td>0.054061</td>\n",
       "      <td>0.057046</td>\n",
       "      <td>0.360400</td>\n",
       "      <td>0.039223</td>\n",
       "    </tr>\n",
       "    <tr>\n",
       "      <th>topic5</th>\n",
       "      <td>0.020217</td>\n",
       "      <td>0.079196</td>\n",
       "      <td>0.011215</td>\n",
       "      <td>0.065399</td>\n",
       "      <td>0.247514</td>\n",
       "      <td>0.009191</td>\n",
       "      <td>0.017150</td>\n",
       "      <td>0.080693</td>\n",
       "      <td>0.452649</td>\n",
       "      <td>0.045245</td>\n",
       "      <td>...</td>\n",
       "      <td>0.037279</td>\n",
       "      <td>0.050352</td>\n",
       "      <td>0.038890</td>\n",
       "      <td>0.020755</td>\n",
       "      <td>0.044932</td>\n",
       "      <td>0.018885</td>\n",
       "      <td>0.049907</td>\n",
       "      <td>0.212603</td>\n",
       "      <td>0.036357</td>\n",
       "      <td>0.054024</td>\n",
       "    </tr>\n",
       "    <tr>\n",
       "      <th>topic6</th>\n",
       "      <td>0.019936</td>\n",
       "      <td>0.093041</td>\n",
       "      <td>0.000000</td>\n",
       "      <td>0.069694</td>\n",
       "      <td>0.029778</td>\n",
       "      <td>0.049061</td>\n",
       "      <td>0.095103</td>\n",
       "      <td>0.070432</td>\n",
       "      <td>0.046528</td>\n",
       "      <td>0.105504</td>\n",
       "      <td>...</td>\n",
       "      <td>0.063369</td>\n",
       "      <td>0.031895</td>\n",
       "      <td>0.025146</td>\n",
       "      <td>0.027650</td>\n",
       "      <td>0.148620</td>\n",
       "      <td>0.128292</td>\n",
       "      <td>0.065137</td>\n",
       "      <td>0.066741</td>\n",
       "      <td>0.034812</td>\n",
       "      <td>0.050527</td>\n",
       "    </tr>\n",
       "    <tr>\n",
       "      <th>topic7</th>\n",
       "      <td>0.093764</td>\n",
       "      <td>0.231517</td>\n",
       "      <td>0.026149</td>\n",
       "      <td>0.095833</td>\n",
       "      <td>0.082446</td>\n",
       "      <td>0.067350</td>\n",
       "      <td>0.225393</td>\n",
       "      <td>0.044588</td>\n",
       "      <td>0.053345</td>\n",
       "      <td>0.080437</td>\n",
       "      <td>...</td>\n",
       "      <td>0.303692</td>\n",
       "      <td>0.185127</td>\n",
       "      <td>0.121861</td>\n",
       "      <td>0.152893</td>\n",
       "      <td>0.106320</td>\n",
       "      <td>0.061806</td>\n",
       "      <td>0.143967</td>\n",
       "      <td>0.146342</td>\n",
       "      <td>0.037268</td>\n",
       "      <td>0.079603</td>\n",
       "    </tr>\n",
       "    <tr>\n",
       "      <th>topic8</th>\n",
       "      <td>0.031540</td>\n",
       "      <td>0.051542</td>\n",
       "      <td>0.002466</td>\n",
       "      <td>0.053284</td>\n",
       "      <td>0.054366</td>\n",
       "      <td>0.131187</td>\n",
       "      <td>0.070909</td>\n",
       "      <td>0.095610</td>\n",
       "      <td>0.104401</td>\n",
       "      <td>0.153728</td>\n",
       "      <td>...</td>\n",
       "      <td>0.051919</td>\n",
       "      <td>0.153307</td>\n",
       "      <td>0.272633</td>\n",
       "      <td>0.037096</td>\n",
       "      <td>0.275108</td>\n",
       "      <td>0.187644</td>\n",
       "      <td>0.076169</td>\n",
       "      <td>0.081226</td>\n",
       "      <td>0.025893</td>\n",
       "      <td>0.070683</td>\n",
       "    </tr>\n",
       "    <tr>\n",
       "      <th>topic9</th>\n",
       "      <td>0.003956</td>\n",
       "      <td>0.040556</td>\n",
       "      <td>0.032107</td>\n",
       "      <td>0.017499</td>\n",
       "      <td>0.355090</td>\n",
       "      <td>0.059011</td>\n",
       "      <td>0.077741</td>\n",
       "      <td>0.092311</td>\n",
       "      <td>0.048138</td>\n",
       "      <td>0.039518</td>\n",
       "      <td>...</td>\n",
       "      <td>0.032795</td>\n",
       "      <td>0.048999</td>\n",
       "      <td>0.011213</td>\n",
       "      <td>0.019290</td>\n",
       "      <td>0.059902</td>\n",
       "      <td>0.069546</td>\n",
       "      <td>0.036485</td>\n",
       "      <td>0.038539</td>\n",
       "      <td>0.009540</td>\n",
       "      <td>0.068650</td>\n",
       "    </tr>\n",
       "    <tr>\n",
       "      <th>topic10</th>\n",
       "      <td>0.043164</td>\n",
       "      <td>0.071058</td>\n",
       "      <td>0.332600</td>\n",
       "      <td>0.268253</td>\n",
       "      <td>0.096696</td>\n",
       "      <td>0.223583</td>\n",
       "      <td>0.069556</td>\n",
       "      <td>0.305406</td>\n",
       "      <td>0.178535</td>\n",
       "      <td>0.212283</td>\n",
       "      <td>...</td>\n",
       "      <td>0.569795</td>\n",
       "      <td>0.117895</td>\n",
       "      <td>0.170158</td>\n",
       "      <td>0.318459</td>\n",
       "      <td>0.084112</td>\n",
       "      <td>0.111128</td>\n",
       "      <td>0.288823</td>\n",
       "      <td>0.388282</td>\n",
       "      <td>0.009983</td>\n",
       "      <td>0.055888</td>\n",
       "    </tr>\n",
       "  </tbody>\n",
       "</table>\n",
       "<p>10 rows × 2000 columns</p>\n",
       "</div>"
      ],
      "text/plain": [
       "         Inception  The Dark Knight    Avatar  The Avengers  Deadpool  \\\n",
       "topic1    0.612448         0.042924  0.018032      0.077441  0.529834   \n",
       "topic2    0.004585         0.199786  0.020211      0.262049  0.056793   \n",
       "topic3    0.035467         0.018050  0.066131      0.051201  0.263146   \n",
       "topic4    0.017615         0.025084  0.021302      0.043743  0.035347   \n",
       "topic5    0.020217         0.079196  0.011215      0.065399  0.247514   \n",
       "topic6    0.019936         0.093041  0.000000      0.069694  0.029778   \n",
       "topic7    0.093764         0.231517  0.026149      0.095833  0.082446   \n",
       "topic8    0.031540         0.051542  0.002466      0.053284  0.054366   \n",
       "topic9    0.003956         0.040556  0.032107      0.017499  0.355090   \n",
       "topic10   0.043164         0.071058  0.332600      0.268253  0.096696   \n",
       "\n",
       "         Interstellar  Django Unchained  Guardians of the Galaxy  Fight Club  \\\n",
       "topic1       0.084915          0.081320                 0.137218    0.205003   \n",
       "topic2       0.052821          0.028338                 0.024136    0.021670   \n",
       "topic3       0.010262          0.025095                 0.081968    0.003239   \n",
       "topic4       0.043881          0.040514                 0.046834    0.015717   \n",
       "topic5       0.009191          0.017150                 0.080693    0.452649   \n",
       "topic6       0.049061          0.095103                 0.070432    0.046528   \n",
       "topic7       0.067350          0.225393                 0.044588    0.053345   \n",
       "topic8       0.131187          0.070909                 0.095610    0.104401   \n",
       "topic9       0.059011          0.077741                 0.092311    0.048138   \n",
       "topic10      0.223583          0.069556                 0.305406    0.178535   \n",
       "\n",
       "         The Hunger Games  ...   G-Force   Cop Out  WarGames  The Kingdom  \\\n",
       "topic1           0.469914  ...  0.001703  0.137006  0.036127     0.013992   \n",
       "topic2           0.232318  ...  0.513841  0.022195  0.116981     0.035072   \n",
       "topic3           0.143525  ...  0.009262  0.039335  0.064661     0.070588   \n",
       "topic4           0.150925  ...  0.033236  0.023991  0.014202     0.015517   \n",
       "topic5           0.045245  ...  0.037279  0.050352  0.038890     0.020755   \n",
       "topic6           0.105504  ...  0.063369  0.031895  0.025146     0.027650   \n",
       "topic7           0.080437  ...  0.303692  0.185127  0.121861     0.152893   \n",
       "topic8           0.153728  ...  0.051919  0.153307  0.272633     0.037096   \n",
       "topic9           0.039518  ...  0.032795  0.048999  0.011213     0.019290   \n",
       "topic10          0.212283  ...  0.569795  0.117895  0.170158     0.318459   \n",
       "\n",
       "         Lars and the Real Girl  Hereafter  The Lazarus Effect   Skyline  \\\n",
       "topic1                 0.225530   0.128470            0.179360  0.147513   \n",
       "topic2                 0.026278   0.048121            0.030591  0.289130   \n",
       "topic3                 0.708203   0.158810            0.044991  0.023737   \n",
       "topic4                 0.038770   0.054269            0.054061  0.057046   \n",
       "topic5                 0.044932   0.018885            0.049907  0.212603   \n",
       "topic6                 0.148620   0.128292            0.065137  0.066741   \n",
       "topic7                 0.106320   0.061806            0.143967  0.146342   \n",
       "topic8                 0.275108   0.187644            0.076169  0.081226   \n",
       "topic9                 0.059902   0.069546            0.036485  0.038539   \n",
       "topic10                0.084112   0.111128            0.288823  0.388282   \n",
       "\n",
       "         The Hundred-Foot Journey  Citizenfour  \n",
       "topic1                   0.020972     0.083145  \n",
       "topic2                   0.027543     0.029860  \n",
       "topic3                   0.368319     0.135471  \n",
       "topic4                   0.360400     0.039223  \n",
       "topic5                   0.036357     0.054024  \n",
       "topic6                   0.034812     0.050527  \n",
       "topic7                   0.037268     0.079603  \n",
       "topic8                   0.025893     0.070683  \n",
       "topic9                   0.009540     0.068650  \n",
       "topic10                  0.009983     0.055888  \n",
       "\n",
       "[10 rows x 2000 columns]"
      ]
     },
     "execution_count": 261,
     "metadata": {},
     "output_type": "execute_result"
    }
   ],
   "source": [
    "shot_type_names = ['topic'+ str(i) for i in range(1,11)]\n",
    "Xnew = pd.DataFrame(X)\n",
    "Xnew.index = shot_type_names\n",
    "Xnew.columns = list(movie_overview[\"original_title\"])\n",
    "X\n",
    "Xnew"
   ]
  },
  {
   "cell_type": "markdown",
   "metadata": {},
   "source": [
    "We created a heatmap and chart to visually show the correlation between movies to visually see which movies are more or less correlated with other movies from the 2000 movie in our data. Red means those movies are highly correlated, while blue means those movies are less correlated."
   ]
  },
  {
   "cell_type": "code",
   "execution_count": null,
   "metadata": {},
   "outputs": [],
   "source": [
    "#visualization parts of correlations between movies\n",
    "#because the whole dataset has 25751 movies,which will cause the kernal to die\n",
    "Xnew_part=Xnew.iloc[:,0:500]\n",
    "topic_movie_corr = Xnew_part.corr()\n",
    "plt.figure(figsize=(18,18))\n",
    "ax = sns.heatmap(topic_movie_corr, square=True, cmap=\"coolwarm\")"
   ]
  },
  {
   "cell_type": "markdown",
   "metadata": {},
   "source": [
    "The former heatmap does not show clear pattern of correlations between each movies. Therefore, we create a clearer heatmap that joints correlated movies together and from this map we can see that the first 7th to 12th movie in the y-axis are similar to each other."
   ]
  },
  {
   "cell_type": "code",
   "execution_count": null,
   "metadata": {},
   "outputs": [],
   "source": [
    "from scipy.cluster.hierarchy import linkage, leaves_list\n",
    "Xnew_linkage = linkage(Xnew_part.transpose(), optimal_ordering=True)\n",
    "leave_ord = leaves_list(Xnew_linkage)\n",
    "plt.figure(figsize=(18,18))\n",
    "sns.heatmap(topic_movie_corr.iloc[leave_ord, leave_ord], square=True, cmap=\"coolwarm\")"
   ]
  },
  {
   "cell_type": "code",
   "execution_count": null,
   "metadata": {},
   "outputs": [],
   "source": [
    "topic_movie_corr"
   ]
  },
  {
   "cell_type": "markdown",
   "metadata": {},
   "source": [
    "Next, we found similar movies by finding the most correlated movies. For instance, “The Gambler”, ”Casino”, and ”Yes Man” are movies that are very similar to “Inception” as proven through the high correlation number."
   ]
  },
  {
   "cell_type": "code",
   "execution_count": null,
   "metadata": {},
   "outputs": [],
   "source": [
    "allcorr = Xnew.corr()\n",
    "inception_s = allcorr[allcorr['Inception'] > 0.99]['Inception'].sort_values(ascending=False)\n",
    "inception_s"
   ]
  },
  {
   "cell_type": "markdown",
   "metadata": {},
   "source": [
    "This is a visualization of the correlation between the 10 topics discussed above and the five most similar movies to inception that was just found. We can see a clear pattern that these 5 movies are highly correlated with topic 1 while has some correlation with topic 7."
   ]
  },
  {
   "cell_type": "code",
   "execution_count": null,
   "metadata": {},
   "outputs": [],
   "source": [
    "vec_normalize = lambda x : x/sum(x)\n",
    "Xnorm = Xnew.apply(vec_normalize)\n",
    "vec_entropy = lambda x: sum(x*np.log(x + 0.00000001))*-1 \n",
    "entropy =  Xnorm.apply(vec_entropy,axis=0)"
   ]
  },
  {
   "cell_type": "code",
   "execution_count": null,
   "metadata": {},
   "outputs": [],
   "source": [
    "#plot five similar movies with the shape of correspongding topics\n",
    "def plot_similar(df,like_list):\n",
    "    x = list(df.index)\n",
    "    color = ['blue', 'red', 'green', 'purple', 'orange']\n",
    "    plt.grid()\n",
    "    for i in range(df[like_list].shape[1]):\n",
    "        y = df[like_list].iloc[:,i]\n",
    "        plt.plot(x,y,color = color[i])\n",
    "        plt.legend()\n",
    "        plt.xlabel('Topics')\n",
    "        plt.ylabel('Movies overviews')\n",
    "    return    \n",
    "\n",
    "figure = plt.figure(figsize=(20,5))\n",
    "\n",
    "## Plot for inception-like movies\n",
    "inception_similarity = list(allcorr[allcorr['Inception'] > 0.99]['Inception'].sort_values(ascending=False).index)[0:5]\n",
    "\n",
    "plot_similar(Xnorm,inception_similarity)\n",
    "plt.title('inception-like movies')"
   ]
  },
  {
   "cell_type": "markdown",
   "metadata": {},
   "source": [
    "### Sentiment Analysis "
   ]
  },
  {
   "cell_type": "markdown",
   "metadata": {},
   "source": [
    "Lastly, we randomly scraped 25 reviews from each of the 5 movies from the IMDB website based on how similar they are, totalling 125 reviews. We conducted sentiment analysis for each of the 125 reviews in order to assign a grade for each review. -1 is the most negative review and 1 is the most positive review. For instance, the image shown below are the last 5 reviews of 125 reviews with its assigned grade."
   ]
  },
  {
   "cell_type": "code",
   "execution_count": null,
   "metadata": {},
   "outputs": [],
   "source": [
    "from pandas import DataFrame\n",
    "import pandas as pd\n",
    "# # df = DataFrame.from_csv(\"reviews.tsv\", sep=\"\\t\")\n",
    "import scipy as sp\n",
    "# data = sp.genfromtxt(\"reviews.tsv\", delimiter=\"\\t\")\n",
    "\n",
    "# Run this cell to set up your notebook\n",
    "import csv\n",
    "import numpy as np\n",
    "import pandas as pd\n",
    "import matplotlib.pyplot as plt\n",
    "import json\n",
    "import zipfile\n",
    "\n",
    "# Ensure that Pandas shows at least 280 characters in columns, so we can see full tweets\n",
    "pd.set_option('max_colwidth', 280)\n",
    "\n",
    "%matplotlib inline\n",
    "plt.style.use('fivethirtyeight')\n",
    "import seaborn as sns\n",
    "sns.set()\n",
    "sns.set_context(\"talk\")\n",
    "import re\n",
    "import nltk\n",
    "from nltk.sentiment.vader import SentimentIntensityAnalyzer"
   ]
  },
  {
   "cell_type": "code",
   "execution_count": null,
   "metadata": {},
   "outputs": [],
   "source": [
    "#getting the reviews\n",
    "import requests\n",
    "from urllib.parse import urljoin\n",
    "from bs4 import BeautifulSoup\n",
    "\n",
    "urlall=[\"https://www.imdb.com/title/tt1375666/reviews?ref_=tt_urv\",\"https://www.imdb.com/title/tt2039393/reviews?ref_=tt_urv\",\"https://www.imdb.com/title/tt0112641/reviews?ref_=tt_ql_3\",\"https://www.imdb.com/title/tt1068680/reviews?ref_=tt_ql_3\",\"https://www.imdb.com/title/tt0084726/reviews?ref_=tt_ql_3\"]\n",
    "reviewall=[]\n",
    "for i in urlall:\n",
    "    url=i\n",
    "    res = requests.get(url)\n",
    "    soup = BeautifulSoup(res.text,\"lxml\")\n",
    "\n",
    "    main_content = urljoin(url,soup.select(\".load-more-data\")[0]['data-ajaxurl'])  ##extracting the link leading to the page containing everything available here\n",
    "    response = requests.get(main_content)\n",
    "    broth = BeautifulSoup(response.text,\"lxml\")\n",
    "    #reviewall=[]\n",
    "    for item in broth.select(\".review-container\"):\n",
    "        title = item.select(\".title\")[0].text\n",
    "        reviewweb = item.select(\".text\")[0].text\n",
    "        reviewall.append(reviewweb)"
   ]
  },
  {
   "cell_type": "code",
   "execution_count": null,
   "metadata": {},
   "outputs": [],
   "source": [
    "reviewalldata=pd.DataFrame(reviewall)\n",
    "reviewalldata=reviewalldata.rename(index=str, columns={0: \"review\"})\n",
    "reviewalldata['id']= range(1, len(reviewalldata) + 1)\n",
    "len(reviewalldata)"
   ]
  },
  {
   "cell_type": "code",
   "execution_count": null,
   "metadata": {},
   "outputs": [],
   "source": [
    "reviewalldata['review']=reviewalldata['review'].str.lower()\n",
    "punct_re = r'[^\\w\\s]'\n",
    "reviewalldata['no_punc'] =reviewalldata['review'].str.replace(punct_re,' ')\n",
    "! wget -nc -nv https://raw.githubusercontent.com/dipanjanS/text-analytics-with-python/master/Old-First-Edition/source_code/Ch04_Text_Classification/contractions.py\n",
    "from contractions import CONTRACTION_MAP\n",
    "CONTRACTION_MAP"
   ]
  },
  {
   "cell_type": "code",
   "execution_count": null,
   "metadata": {},
   "outputs": [],
   "source": [
    "#text preprocessing\n",
    "def expand_contractions(text, contraction_mapping):\n",
    "    \n",
    "    contractions_pattern = re.compile('({})'.format('|'.join(contraction_mapping.keys())), \n",
    "                                      flags=re.IGNORECASE|re.DOTALL)\n",
    "    def expand_match(contraction):\n",
    "        match = contraction.group(0)\n",
    "        first_char = match[0]\n",
    "        expanded_contraction = contraction_mapping.get(match)\\\n",
    "                                if contraction_mapping.get(match)\\\n",
    "                                else contraction_mapping.get(match.lower())\n",
    "        # not sure why below is there\n",
    "        # expanded_contraction = first_char+expanded_contraction[1:] \n",
    "        return expanded_contraction\n",
    "        \n",
    "    expanded_text = contractions_pattern.sub(expand_match, text)\n",
    "    expanded_text = re.sub(\"'\", \"\", expanded_text)\n",
    "    return expanded_text"
   ]
  },
  {
   "cell_type": "code",
   "execution_count": null,
   "metadata": {},
   "outputs": [],
   "source": [
    "#add a column of the text\n",
    "reviewalldata['no_punc'] = [expand_contractions(sentence, CONTRACTION_MAP) for sentence in reviewalldata['no_punc']]\n",
    "reviewalldata.tail()"
   ]
  },
  {
   "cell_type": "code",
   "execution_count": null,
   "metadata": {},
   "outputs": [],
   "source": [
    "total=[]\n",
    "nltk.download('vader_lexicon')\n",
    "sid = SentimentIntensityAnalyzer()\n",
    "for sentence in reviewalldata['no_punc']:\n",
    "    print(sentence)\n",
    "    ss = sid.polarity_scores(sentence)\n",
    "    total.append(ss)\n",
    "    for k in sorted(ss):\n",
    "        print('{0}: {1}, '.format(k, ss[k]), end='')\n",
    "    print('\\n')"
   ]
  },
  {
   "cell_type": "code",
   "execution_count": null,
   "metadata": {},
   "outputs": [],
   "source": [
    "#compound the sentiment into a column\n",
    "polarity=pd.DataFrame(total)\n",
    "\n",
    "# search_info.head()\n",
    "reviewalldata['polarity']=list(polarity['compound'])"
   ]
  },
  {
   "cell_type": "code",
   "execution_count": null,
   "metadata": {},
   "outputs": [],
   "source": [
    "#chart with grade assigned to every review\n",
    "reviewalldata=reviewalldata.drop(columns=['review'])\n",
    "reviewalldata.tail()"
   ]
  },
  {
   "cell_type": "code",
   "execution_count": null,
   "metadata": {},
   "outputs": [],
   "source": [
    "reviewalldata.head()\n",
    "#for review in reviewalldata['no_punc']:\n",
    "grade=[]\n",
    "a=list(polarity['compound'])\n",
    "for i in range(5):\n",
    "    grade.append(sum(a[25*i:(25*(i+1)-1)])/25)\n",
    "grade"
   ]
  },
  {
   "cell_type": "markdown",
   "metadata": {},
   "source": [
    "We proceed to average out all the polarity grades of reviews for a certain movie, making up the numbers seen in the review_grades column. We used this variable to determine how good a movie is based on viewers’ opinions, and we will recommend the similar movies in the order of from highest to lowest review grade."
   ]
  },
  {
   "cell_type": "code",
   "execution_count": null,
   "metadata": {},
   "outputs": [],
   "source": [
    "a= {\"similar_movies\":inception_similarity,\"review_grades\":grade}\n",
    "mrg=pd.DataFrame(data=a)\n",
    "mrg.sort_values(by=\"review_grades\",ascending=False)"
   ]
  },
  {
   "cell_type": "markdown",
   "metadata": {},
   "source": [
    "## Results  "
   ]
  },
  {
   "cell_type": "markdown",
   "metadata": {},
   "source": [
    "With the approaches and methods that we used as mentioned above, we accomplished our goal for the recommendation system. That is to mark the top three movies based on the strongest correlation with the topics found in the current movie and the best average review/rating, and then setting them as possible movie recommendations that the user may enjoy."
   ]
  },
  {
   "cell_type": "markdown",
   "metadata": {},
   "source": [
    "### EDA "
   ]
  },
  {
   "cell_type": "markdown",
   "metadata": {},
   "source": [
    "As seen in the last 3 bar plots of EDA, more action movies were made than any other genre from 1985 up till 2017. This was followed by comedy in second and thriller in third place. It is also shown that Universal Pictures produced more movies than any other company throughout those year. Lastly, USA has produced more movies than any other country in the dataset by a huge margin. A possible reason for this is that USA has an established culture of exporting a lot of its entertainment to other countries, whereas most of the other countries around the world do not."
   ]
  },
  {
   "cell_type": "code",
   "execution_count": null,
   "metadata": {},
   "outputs": [],
   "source": [
    "#3 plots\n",
    "\n",
    "#top 15 for genre\n",
    "genre_top15 = genre.sort_values(ascending = False).head(15)\n",
    "ax = plt.axes()\n",
    "genre_top15.plot(kind = 'bar')\n",
    "ax.set_title('Top 15 genres')\n",
    "plt.show()"
   ]
  },
  {
   "cell_type": "code",
   "execution_count": null,
   "metadata": {},
   "outputs": [],
   "source": [
    "#top 15 companies \n",
    "company_top15 = company.sort_values(ascending = False).head(15)\n",
    "ax = plt.axes()\n",
    "company_top15.plot(kind = 'bar')\n",
    "ax.set_title('Top 15 company')\n",
    "plt.show()"
   ]
  },
  {
   "cell_type": "code",
   "execution_count": null,
   "metadata": {},
   "outputs": [],
   "source": [
    "#top 15 countries\n",
    "country.sort_values(ascending = False).head(10).plot(kind = 'bar')"
   ]
  },
  {
   "cell_type": "markdown",
   "metadata": {},
   "source": [
    "### Text Mining "
   ]
  },
  {
   "cell_type": "markdown",
   "metadata": {},
   "source": [
    "Continuing from the last chart found in Sentiment Analysis, we can see that all 5 movies have positive reviews and amongst all of these, “Yes Man”, “Casino”, and “The Gambler” have the highest grade. Therefore, we will recommend these 3 movies for someone who is looking up reviews for “Inception” as they are the most positively rated movies amongst all 2000 movies that are most highly correlated with the “Inception” movie based on this dataset."
   ]
  },
  {
   "cell_type": "code",
   "execution_count": null,
   "metadata": {},
   "outputs": [],
   "source": [
    "#print chart again\n",
    "a= {\"similar_movies\":inception_similarity,\"review_grades\":grade}\n",
    "mrg=pd.DataFrame(data=a)\n",
    "mrg.sort_values(by=\"review_grades\",ascending=False)"
   ]
  },
  {
   "cell_type": "markdown",
   "metadata": {},
   "source": [
    "## Possible Improvements/Future Directions "
   ]
  },
  {
   "cell_type": "markdown",
   "metadata": {},
   "source": [
    "In this project, we only used NMF to extract topics, so we can try with LDA in the future. We also don't have all the reviews for all movies and it took a while to get the reviews. Therefore, we will try to find a more efficient way to get the data next time. Lastly, we only took 2000 observations, so we will take all the observations from the data next time we work with this dataset in order to also see if any of the patterns and correlations we observed remain the same. Also, this is only based on movie trends from 1985-2016, and trends do change. Thus, we would like to create a model that can predict what the next big movie trends are as we continue collecting new data about movies. "
   ]
  },
  {
   "cell_type": "markdown",
   "metadata": {},
   "source": [
    "## Conclusion "
   ]
  },
  {
   "cell_type": "markdown",
   "metadata": {},
   "source": [
    "In conclusion, we found that more action movies were produced than any other genre from years 1985 up till 2017 from our EDA. Universal Pictures also produced more movies than any other company throughout those years. In addition, USA has produced more movies than any other country in the dataset by a huge margin. A possible reason for this is that USA has an established culture of exporting a lot of its entertainment to other countries, whereas most of the other countries around the world do not. Based on all these observed patterns, we know what direction to take our recommendation system and what to recommend to people looking for good movies in general. \n",
    "\n",
    "Furthermore, budget, revenue and vote_count are observed to be heavily correlated with a correlation of about 0.8. This makes sense, because usually movies with larger budget end up with a bigger revenue. In other words, those movies gets a lot of publicity such as through ads and commercials. As a result, the movie reaches out to more people and therefore more watch the movie, making Vote_count's correlation relatively high. However, we found that rating is not heavily correlated with budget or revenue. This is because a popular movie does not necessarily mean that the movie was good and vice versa.\n",
    "\n",
    "Lastly, we were able to build a recommendation system base on our raw data set and the reviews from IMDB websites. We  did so through text mining on movie overviews to extract 10 topics using NMF method. Then we found correlations between each movies and using the correlation to find similar movies. With sentiment analysis, we received reviews of those similar movies to get a recommendation in the order from most to least similar movies."
   ]
  },
  {
   "cell_type": "markdown",
   "metadata": {},
   "source": [
    "## References "
   ]
  },
  {
   "cell_type": "markdown",
   "metadata": {},
   "source": [
    "https://www.kaggle.com/rounakbanik/the-movies-dataset#movies_metadata.csv\n",
    "https://www.imdb.com/\n",
    "https://www.dataquest.io/blog/web-scraping-beautifulsoup/"
   ]
  }
 ],
 "metadata": {
  "kernelspec": {
   "display_name": "Python 3",
   "language": "python",
   "name": "python3"
  },
  "language_info": {
   "codemirror_mode": {
    "name": "ipython",
    "version": 3
   },
   "file_extension": ".py",
   "mimetype": "text/x-python",
   "name": "python",
   "nbconvert_exporter": "python",
   "pygments_lexer": "ipython3",
   "version": "3.6.7"
  }
 },
 "nbformat": 4,
 "nbformat_minor": 2
}
