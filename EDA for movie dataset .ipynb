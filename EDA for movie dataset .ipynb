{
 "cells": [
  {
   "cell_type": "markdown",
   "metadata": {},
   "source": [
    "### Set up"
   ]
  },
  {
   "cell_type": "code",
   "execution_count": 2,
   "metadata": {},
   "outputs": [],
   "source": [
    "%matplotlib inline\n",
    "import pandas as pd\n",
    "import numpy as np\n",
    "import seaborn as sns\n",
    "import matplotlib.pyplot as plt\n",
    "from ast import literal_eval"
   ]
  },
  {
   "cell_type": "code",
   "execution_count": 3,
   "metadata": {},
   "outputs": [],
   "source": [
    "# import plotly\n",
    "# import plotly.graph_objs as go"
   ]
  },
  {
   "cell_type": "markdown",
   "metadata": {},
   "source": [
    "### import the data and clean the missing values "
   ]
  },
  {
   "cell_type": "code",
   "execution_count": 4,
   "metadata": {},
   "outputs": [
    {
     "name": "stdout",
     "output_type": "stream",
     "text": [
      "<class 'pandas.core.frame.DataFrame'>\n",
      "RangeIndex: 25964 entries, 0 to 25963\n",
      "Data columns (total 24 columns):\n",
      "adult                    25964 non-null bool\n",
      "belongs_to_collection    3743 non-null object\n",
      "budget                   25964 non-null int64\n",
      "genres                   25964 non-null object\n",
      "homepage                 5423 non-null object\n",
      "id                       25964 non-null int64\n",
      "imdb_id                  25960 non-null object\n",
      "original_language        25962 non-null object\n",
      "original_title           25964 non-null object\n",
      "overview                 25764 non-null object\n",
      "popularity               25964 non-null float64\n",
      "poster_path              25963 non-null object\n",
      "production_companies     25964 non-null object\n",
      "production_countries     25964 non-null object\n",
      "release_date             25961 non-null object\n",
      "revenue                  25964 non-null int64\n",
      "runtime                  25942 non-null float64\n",
      "spoken_languages         25964 non-null object\n",
      "status                   25958 non-null object\n",
      "tagline                  14666 non-null object\n",
      "title                    25964 non-null object\n",
      "video                    25964 non-null bool\n",
      "vote_average             25964 non-null float64\n",
      "vote_count               25964 non-null int64\n",
      "dtypes: bool(2), float64(3), int64(4), object(15)\n",
      "memory usage: 4.4+ MB\n"
     ]
    }
   ],
   "source": [
    "movie = pd.read_csv(\"movie_metadata_1.csv\")\n",
    "movie.info()"
   ]
  },
  {
   "cell_type": "code",
   "execution_count": 5,
   "metadata": {},
   "outputs": [
    {
     "data": {
      "text/html": [
       "<div>\n",
       "<style scoped>\n",
       "    .dataframe tbody tr th:only-of-type {\n",
       "        vertical-align: middle;\n",
       "    }\n",
       "\n",
       "    .dataframe tbody tr th {\n",
       "        vertical-align: top;\n",
       "    }\n",
       "\n",
       "    .dataframe thead th {\n",
       "        text-align: right;\n",
       "    }\n",
       "</style>\n",
       "<table border=\"1\" class=\"dataframe\">\n",
       "  <thead>\n",
       "    <tr style=\"text-align: right;\">\n",
       "      <th></th>\n",
       "      <th>adult</th>\n",
       "      <th>belongs_to_collection</th>\n",
       "      <th>budget</th>\n",
       "      <th>genres</th>\n",
       "      <th>homepage</th>\n",
       "      <th>id</th>\n",
       "      <th>imdb_id</th>\n",
       "      <th>original_language</th>\n",
       "      <th>original_title</th>\n",
       "      <th>overview</th>\n",
       "      <th>...</th>\n",
       "      <th>release_date</th>\n",
       "      <th>revenue</th>\n",
       "      <th>runtime</th>\n",
       "      <th>spoken_languages</th>\n",
       "      <th>status</th>\n",
       "      <th>tagline</th>\n",
       "      <th>title</th>\n",
       "      <th>video</th>\n",
       "      <th>vote_average</th>\n",
       "      <th>vote_count</th>\n",
       "    </tr>\n",
       "  </thead>\n",
       "  <tbody>\n",
       "    <tr>\n",
       "      <th>0</th>\n",
       "      <td>False</td>\n",
       "      <td>NaN</td>\n",
       "      <td>160000000</td>\n",
       "      <td>[{'id': 28, 'name': 'Action'}, {'id': 53, 'nam...</td>\n",
       "      <td>http://inceptionmovie.warnerbros.com/</td>\n",
       "      <td>27205</td>\n",
       "      <td>tt1375666</td>\n",
       "      <td>en</td>\n",
       "      <td>Inception</td>\n",
       "      <td>Cobb, a skilled thief who commits corporate es...</td>\n",
       "      <td>...</td>\n",
       "      <td>7/14/2010</td>\n",
       "      <td>825532764</td>\n",
       "      <td>148.0</td>\n",
       "      <td>[{'iso_639_1': 'en', 'name': 'English'}]</td>\n",
       "      <td>Released</td>\n",
       "      <td>Your mind is the scene of the crime.</td>\n",
       "      <td>Inception</td>\n",
       "      <td>False</td>\n",
       "      <td>8.1</td>\n",
       "      <td>14075</td>\n",
       "    </tr>\n",
       "    <tr>\n",
       "      <th>1</th>\n",
       "      <td>False</td>\n",
       "      <td>{'id': 263, 'name': 'The Dark Knight Collectio...</td>\n",
       "      <td>185000000</td>\n",
       "      <td>[{'id': 18, 'name': 'Drama'}, {'id': 28, 'name...</td>\n",
       "      <td>http://thedarkknight.warnerbros.com/dvdsite/</td>\n",
       "      <td>155</td>\n",
       "      <td>tt0468569</td>\n",
       "      <td>en</td>\n",
       "      <td>The Dark Knight</td>\n",
       "      <td>Batman raises the stakes in his war on crime. ...</td>\n",
       "      <td>...</td>\n",
       "      <td>7/16/2008</td>\n",
       "      <td>1004558444</td>\n",
       "      <td>152.0</td>\n",
       "      <td>[{'iso_639_1': 'en', 'name': 'English'}, {'iso...</td>\n",
       "      <td>Released</td>\n",
       "      <td>Why So Serious?</td>\n",
       "      <td>The Dark Knight</td>\n",
       "      <td>False</td>\n",
       "      <td>8.3</td>\n",
       "      <td>12269</td>\n",
       "    </tr>\n",
       "    <tr>\n",
       "      <th>2</th>\n",
       "      <td>False</td>\n",
       "      <td>{'id': 87096, 'name': 'Avatar Collection', 'po...</td>\n",
       "      <td>237000000</td>\n",
       "      <td>[{'id': 28, 'name': 'Action'}, {'id': 12, 'nam...</td>\n",
       "      <td>http://www.avatarmovie.com/</td>\n",
       "      <td>19995</td>\n",
       "      <td>tt0499549</td>\n",
       "      <td>en</td>\n",
       "      <td>Avatar</td>\n",
       "      <td>In the 22nd century, a paraplegic Marine is di...</td>\n",
       "      <td>...</td>\n",
       "      <td>12/10/2009</td>\n",
       "      <td>2787965087</td>\n",
       "      <td>162.0</td>\n",
       "      <td>[{'iso_639_1': 'en', 'name': 'English'}, {'iso...</td>\n",
       "      <td>Released</td>\n",
       "      <td>Enter the World of Pandora.</td>\n",
       "      <td>Avatar</td>\n",
       "      <td>False</td>\n",
       "      <td>7.2</td>\n",
       "      <td>12114</td>\n",
       "    </tr>\n",
       "    <tr>\n",
       "      <th>3</th>\n",
       "      <td>False</td>\n",
       "      <td>{'id': 86311, 'name': 'The Avengers Collection...</td>\n",
       "      <td>220000000</td>\n",
       "      <td>[{'id': 878, 'name': 'Science Fiction'}, {'id'...</td>\n",
       "      <td>http://marvel.com/avengers_movie/</td>\n",
       "      <td>24428</td>\n",
       "      <td>tt0848228</td>\n",
       "      <td>en</td>\n",
       "      <td>The Avengers</td>\n",
       "      <td>When an unexpected enemy emerges and threatens...</td>\n",
       "      <td>...</td>\n",
       "      <td>4/25/2012</td>\n",
       "      <td>1519557910</td>\n",
       "      <td>143.0</td>\n",
       "      <td>[{'iso_639_1': 'en', 'name': 'English'}]</td>\n",
       "      <td>Released</td>\n",
       "      <td>Some assembly required.</td>\n",
       "      <td>The Avengers</td>\n",
       "      <td>False</td>\n",
       "      <td>7.4</td>\n",
       "      <td>12000</td>\n",
       "    </tr>\n",
       "    <tr>\n",
       "      <th>4</th>\n",
       "      <td>False</td>\n",
       "      <td>{'id': 448150, 'name': 'Deadpool Collection', ...</td>\n",
       "      <td>58000000</td>\n",
       "      <td>[{'id': 28, 'name': 'Action'}, {'id': 12, 'nam...</td>\n",
       "      <td>http://www.foxmovies.com/movies/deadpool</td>\n",
       "      <td>293660</td>\n",
       "      <td>tt1431045</td>\n",
       "      <td>en</td>\n",
       "      <td>Deadpool</td>\n",
       "      <td>Deadpool tells the origin story of former Spec...</td>\n",
       "      <td>...</td>\n",
       "      <td>2/9/2016</td>\n",
       "      <td>783112979</td>\n",
       "      <td>108.0</td>\n",
       "      <td>[{'iso_639_1': 'en', 'name': 'English'}]</td>\n",
       "      <td>Released</td>\n",
       "      <td>Witness the beginning of a happy ending</td>\n",
       "      <td>Deadpool</td>\n",
       "      <td>False</td>\n",
       "      <td>7.4</td>\n",
       "      <td>11444</td>\n",
       "    </tr>\n",
       "  </tbody>\n",
       "</table>\n",
       "<p>5 rows × 24 columns</p>\n",
       "</div>"
      ],
      "text/plain": [
       "   adult                              belongs_to_collection     budget  \\\n",
       "0  False                                                NaN  160000000   \n",
       "1  False  {'id': 263, 'name': 'The Dark Knight Collectio...  185000000   \n",
       "2  False  {'id': 87096, 'name': 'Avatar Collection', 'po...  237000000   \n",
       "3  False  {'id': 86311, 'name': 'The Avengers Collection...  220000000   \n",
       "4  False  {'id': 448150, 'name': 'Deadpool Collection', ...   58000000   \n",
       "\n",
       "                                              genres  \\\n",
       "0  [{'id': 28, 'name': 'Action'}, {'id': 53, 'nam...   \n",
       "1  [{'id': 18, 'name': 'Drama'}, {'id': 28, 'name...   \n",
       "2  [{'id': 28, 'name': 'Action'}, {'id': 12, 'nam...   \n",
       "3  [{'id': 878, 'name': 'Science Fiction'}, {'id'...   \n",
       "4  [{'id': 28, 'name': 'Action'}, {'id': 12, 'nam...   \n",
       "\n",
       "                                       homepage      id    imdb_id  \\\n",
       "0         http://inceptionmovie.warnerbros.com/   27205  tt1375666   \n",
       "1  http://thedarkknight.warnerbros.com/dvdsite/     155  tt0468569   \n",
       "2                   http://www.avatarmovie.com/   19995  tt0499549   \n",
       "3             http://marvel.com/avengers_movie/   24428  tt0848228   \n",
       "4      http://www.foxmovies.com/movies/deadpool  293660  tt1431045   \n",
       "\n",
       "  original_language   original_title  \\\n",
       "0                en        Inception   \n",
       "1                en  The Dark Knight   \n",
       "2                en           Avatar   \n",
       "3                en     The Avengers   \n",
       "4                en         Deadpool   \n",
       "\n",
       "                                            overview  ...  release_date  \\\n",
       "0  Cobb, a skilled thief who commits corporate es...  ...     7/14/2010   \n",
       "1  Batman raises the stakes in his war on crime. ...  ...     7/16/2008   \n",
       "2  In the 22nd century, a paraplegic Marine is di...  ...    12/10/2009   \n",
       "3  When an unexpected enemy emerges and threatens...  ...     4/25/2012   \n",
       "4  Deadpool tells the origin story of former Spec...  ...      2/9/2016   \n",
       "\n",
       "      revenue runtime                                   spoken_languages  \\\n",
       "0   825532764   148.0           [{'iso_639_1': 'en', 'name': 'English'}]   \n",
       "1  1004558444   152.0  [{'iso_639_1': 'en', 'name': 'English'}, {'iso...   \n",
       "2  2787965087   162.0  [{'iso_639_1': 'en', 'name': 'English'}, {'iso...   \n",
       "3  1519557910   143.0           [{'iso_639_1': 'en', 'name': 'English'}]   \n",
       "4   783112979   108.0           [{'iso_639_1': 'en', 'name': 'English'}]   \n",
       "\n",
       "     status                                  tagline            title  video  \\\n",
       "0  Released     Your mind is the scene of the crime.        Inception  False   \n",
       "1  Released                          Why So Serious?  The Dark Knight  False   \n",
       "2  Released              Enter the World of Pandora.           Avatar  False   \n",
       "3  Released                  Some assembly required.     The Avengers  False   \n",
       "4  Released  Witness the beginning of a happy ending         Deadpool  False   \n",
       "\n",
       "  vote_average vote_count  \n",
       "0          8.1      14075  \n",
       "1          8.3      12269  \n",
       "2          7.2      12114  \n",
       "3          7.4      12000  \n",
       "4          7.4      11444  \n",
       "\n",
       "[5 rows x 24 columns]"
      ]
     },
     "execution_count": 5,
     "metadata": {},
     "output_type": "execute_result"
    }
   ],
   "source": [
    "movie.head()"
   ]
  },
  {
   "cell_type": "code",
   "execution_count": 6,
   "metadata": {},
   "outputs": [
    {
     "data": {
      "text/plain": [
       "(25964, 24)"
      ]
     },
     "execution_count": 6,
     "metadata": {},
     "output_type": "execute_result"
    }
   ],
   "source": [
    "movie.shape"
   ]
  },
  {
   "cell_type": "code",
   "execution_count": 7,
   "metadata": {},
   "outputs": [],
   "source": [
    "movie = movie.set_index(\"title\", drop = True)"
   ]
  },
  {
   "cell_type": "code",
   "execution_count": 8,
   "metadata": {},
   "outputs": [
    {
     "data": {
      "text/html": [
       "<div>\n",
       "<style scoped>\n",
       "    .dataframe tbody tr th:only-of-type {\n",
       "        vertical-align: middle;\n",
       "    }\n",
       "\n",
       "    .dataframe tbody tr th {\n",
       "        vertical-align: top;\n",
       "    }\n",
       "\n",
       "    .dataframe thead th {\n",
       "        text-align: right;\n",
       "    }\n",
       "</style>\n",
       "<table border=\"1\" class=\"dataframe\">\n",
       "  <thead>\n",
       "    <tr style=\"text-align: right;\">\n",
       "      <th></th>\n",
       "      <th>adult</th>\n",
       "      <th>belongs_to_collection</th>\n",
       "      <th>budget</th>\n",
       "      <th>genres</th>\n",
       "      <th>homepage</th>\n",
       "      <th>id</th>\n",
       "      <th>imdb_id</th>\n",
       "      <th>original_language</th>\n",
       "      <th>original_title</th>\n",
       "      <th>overview</th>\n",
       "      <th>...</th>\n",
       "      <th>production_countries</th>\n",
       "      <th>release_date</th>\n",
       "      <th>revenue</th>\n",
       "      <th>runtime</th>\n",
       "      <th>spoken_languages</th>\n",
       "      <th>status</th>\n",
       "      <th>tagline</th>\n",
       "      <th>video</th>\n",
       "      <th>vote_average</th>\n",
       "      <th>vote_count</th>\n",
       "    </tr>\n",
       "    <tr>\n",
       "      <th>title</th>\n",
       "      <th></th>\n",
       "      <th></th>\n",
       "      <th></th>\n",
       "      <th></th>\n",
       "      <th></th>\n",
       "      <th></th>\n",
       "      <th></th>\n",
       "      <th></th>\n",
       "      <th></th>\n",
       "      <th></th>\n",
       "      <th></th>\n",
       "      <th></th>\n",
       "      <th></th>\n",
       "      <th></th>\n",
       "      <th></th>\n",
       "      <th></th>\n",
       "      <th></th>\n",
       "      <th></th>\n",
       "      <th></th>\n",
       "      <th></th>\n",
       "      <th></th>\n",
       "    </tr>\n",
       "  </thead>\n",
       "  <tbody>\n",
       "    <tr>\n",
       "      <th>Inception</th>\n",
       "      <td>False</td>\n",
       "      <td>NaN</td>\n",
       "      <td>160000000</td>\n",
       "      <td>[{'id': 28, 'name': 'Action'}, {'id': 53, 'nam...</td>\n",
       "      <td>http://inceptionmovie.warnerbros.com/</td>\n",
       "      <td>27205</td>\n",
       "      <td>tt1375666</td>\n",
       "      <td>en</td>\n",
       "      <td>Inception</td>\n",
       "      <td>Cobb, a skilled thief who commits corporate es...</td>\n",
       "      <td>...</td>\n",
       "      <td>[{'iso_3166_1': 'GB', 'name': 'United Kingdom'...</td>\n",
       "      <td>7/14/2010</td>\n",
       "      <td>825532764</td>\n",
       "      <td>148.0</td>\n",
       "      <td>[{'iso_639_1': 'en', 'name': 'English'}]</td>\n",
       "      <td>Released</td>\n",
       "      <td>Your mind is the scene of the crime.</td>\n",
       "      <td>False</td>\n",
       "      <td>8.1</td>\n",
       "      <td>14075</td>\n",
       "    </tr>\n",
       "    <tr>\n",
       "      <th>The Dark Knight</th>\n",
       "      <td>False</td>\n",
       "      <td>{'id': 263, 'name': 'The Dark Knight Collectio...</td>\n",
       "      <td>185000000</td>\n",
       "      <td>[{'id': 18, 'name': 'Drama'}, {'id': 28, 'name...</td>\n",
       "      <td>http://thedarkknight.warnerbros.com/dvdsite/</td>\n",
       "      <td>155</td>\n",
       "      <td>tt0468569</td>\n",
       "      <td>en</td>\n",
       "      <td>The Dark Knight</td>\n",
       "      <td>Batman raises the stakes in his war on crime. ...</td>\n",
       "      <td>...</td>\n",
       "      <td>[{'iso_3166_1': 'GB', 'name': 'United Kingdom'...</td>\n",
       "      <td>7/16/2008</td>\n",
       "      <td>1004558444</td>\n",
       "      <td>152.0</td>\n",
       "      <td>[{'iso_639_1': 'en', 'name': 'English'}, {'iso...</td>\n",
       "      <td>Released</td>\n",
       "      <td>Why So Serious?</td>\n",
       "      <td>False</td>\n",
       "      <td>8.3</td>\n",
       "      <td>12269</td>\n",
       "    </tr>\n",
       "    <tr>\n",
       "      <th>Avatar</th>\n",
       "      <td>False</td>\n",
       "      <td>{'id': 87096, 'name': 'Avatar Collection', 'po...</td>\n",
       "      <td>237000000</td>\n",
       "      <td>[{'id': 28, 'name': 'Action'}, {'id': 12, 'nam...</td>\n",
       "      <td>http://www.avatarmovie.com/</td>\n",
       "      <td>19995</td>\n",
       "      <td>tt0499549</td>\n",
       "      <td>en</td>\n",
       "      <td>Avatar</td>\n",
       "      <td>In the 22nd century, a paraplegic Marine is di...</td>\n",
       "      <td>...</td>\n",
       "      <td>[{'iso_3166_1': 'US', 'name': 'United States o...</td>\n",
       "      <td>12/10/2009</td>\n",
       "      <td>2787965087</td>\n",
       "      <td>162.0</td>\n",
       "      <td>[{'iso_639_1': 'en', 'name': 'English'}, {'iso...</td>\n",
       "      <td>Released</td>\n",
       "      <td>Enter the World of Pandora.</td>\n",
       "      <td>False</td>\n",
       "      <td>7.2</td>\n",
       "      <td>12114</td>\n",
       "    </tr>\n",
       "    <tr>\n",
       "      <th>The Avengers</th>\n",
       "      <td>False</td>\n",
       "      <td>{'id': 86311, 'name': 'The Avengers Collection...</td>\n",
       "      <td>220000000</td>\n",
       "      <td>[{'id': 878, 'name': 'Science Fiction'}, {'id'...</td>\n",
       "      <td>http://marvel.com/avengers_movie/</td>\n",
       "      <td>24428</td>\n",
       "      <td>tt0848228</td>\n",
       "      <td>en</td>\n",
       "      <td>The Avengers</td>\n",
       "      <td>When an unexpected enemy emerges and threatens...</td>\n",
       "      <td>...</td>\n",
       "      <td>[{'iso_3166_1': 'US', 'name': 'United States o...</td>\n",
       "      <td>4/25/2012</td>\n",
       "      <td>1519557910</td>\n",
       "      <td>143.0</td>\n",
       "      <td>[{'iso_639_1': 'en', 'name': 'English'}]</td>\n",
       "      <td>Released</td>\n",
       "      <td>Some assembly required.</td>\n",
       "      <td>False</td>\n",
       "      <td>7.4</td>\n",
       "      <td>12000</td>\n",
       "    </tr>\n",
       "    <tr>\n",
       "      <th>Deadpool</th>\n",
       "      <td>False</td>\n",
       "      <td>{'id': 448150, 'name': 'Deadpool Collection', ...</td>\n",
       "      <td>58000000</td>\n",
       "      <td>[{'id': 28, 'name': 'Action'}, {'id': 12, 'nam...</td>\n",
       "      <td>http://www.foxmovies.com/movies/deadpool</td>\n",
       "      <td>293660</td>\n",
       "      <td>tt1431045</td>\n",
       "      <td>en</td>\n",
       "      <td>Deadpool</td>\n",
       "      <td>Deadpool tells the origin story of former Spec...</td>\n",
       "      <td>...</td>\n",
       "      <td>[{'iso_3166_1': 'US', 'name': 'United States o...</td>\n",
       "      <td>2/9/2016</td>\n",
       "      <td>783112979</td>\n",
       "      <td>108.0</td>\n",
       "      <td>[{'iso_639_1': 'en', 'name': 'English'}]</td>\n",
       "      <td>Released</td>\n",
       "      <td>Witness the beginning of a happy ending</td>\n",
       "      <td>False</td>\n",
       "      <td>7.4</td>\n",
       "      <td>11444</td>\n",
       "    </tr>\n",
       "  </tbody>\n",
       "</table>\n",
       "<p>5 rows × 23 columns</p>\n",
       "</div>"
      ],
      "text/plain": [
       "                 adult                              belongs_to_collection  \\\n",
       "title                                                                       \n",
       "Inception        False                                                NaN   \n",
       "The Dark Knight  False  {'id': 263, 'name': 'The Dark Knight Collectio...   \n",
       "Avatar           False  {'id': 87096, 'name': 'Avatar Collection', 'po...   \n",
       "The Avengers     False  {'id': 86311, 'name': 'The Avengers Collection...   \n",
       "Deadpool         False  {'id': 448150, 'name': 'Deadpool Collection', ...   \n",
       "\n",
       "                    budget                                             genres  \\\n",
       "title                                                                           \n",
       "Inception        160000000  [{'id': 28, 'name': 'Action'}, {'id': 53, 'nam...   \n",
       "The Dark Knight  185000000  [{'id': 18, 'name': 'Drama'}, {'id': 28, 'name...   \n",
       "Avatar           237000000  [{'id': 28, 'name': 'Action'}, {'id': 12, 'nam...   \n",
       "The Avengers     220000000  [{'id': 878, 'name': 'Science Fiction'}, {'id'...   \n",
       "Deadpool          58000000  [{'id': 28, 'name': 'Action'}, {'id': 12, 'nam...   \n",
       "\n",
       "                                                     homepage      id  \\\n",
       "title                                                                   \n",
       "Inception               http://inceptionmovie.warnerbros.com/   27205   \n",
       "The Dark Knight  http://thedarkknight.warnerbros.com/dvdsite/     155   \n",
       "Avatar                            http://www.avatarmovie.com/   19995   \n",
       "The Avengers                http://marvel.com/avengers_movie/   24428   \n",
       "Deadpool             http://www.foxmovies.com/movies/deadpool  293660   \n",
       "\n",
       "                   imdb_id original_language   original_title  \\\n",
       "title                                                           \n",
       "Inception        tt1375666                en        Inception   \n",
       "The Dark Knight  tt0468569                en  The Dark Knight   \n",
       "Avatar           tt0499549                en           Avatar   \n",
       "The Avengers     tt0848228                en     The Avengers   \n",
       "Deadpool         tt1431045                en         Deadpool   \n",
       "\n",
       "                                                          overview  ...  \\\n",
       "title                                                               ...   \n",
       "Inception        Cobb, a skilled thief who commits corporate es...  ...   \n",
       "The Dark Knight  Batman raises the stakes in his war on crime. ...  ...   \n",
       "Avatar           In the 22nd century, a paraplegic Marine is di...  ...   \n",
       "The Avengers     When an unexpected enemy emerges and threatens...  ...   \n",
       "Deadpool         Deadpool tells the origin story of former Spec...  ...   \n",
       "\n",
       "                                              production_countries  \\\n",
       "title                                                                \n",
       "Inception        [{'iso_3166_1': 'GB', 'name': 'United Kingdom'...   \n",
       "The Dark Knight  [{'iso_3166_1': 'GB', 'name': 'United Kingdom'...   \n",
       "Avatar           [{'iso_3166_1': 'US', 'name': 'United States o...   \n",
       "The Avengers     [{'iso_3166_1': 'US', 'name': 'United States o...   \n",
       "Deadpool         [{'iso_3166_1': 'US', 'name': 'United States o...   \n",
       "\n",
       "                release_date     revenue runtime  \\\n",
       "title                                              \n",
       "Inception          7/14/2010   825532764   148.0   \n",
       "The Dark Knight    7/16/2008  1004558444   152.0   \n",
       "Avatar            12/10/2009  2787965087   162.0   \n",
       "The Avengers       4/25/2012  1519557910   143.0   \n",
       "Deadpool            2/9/2016   783112979   108.0   \n",
       "\n",
       "                                                  spoken_languages    status  \\\n",
       "title                                                                          \n",
       "Inception                 [{'iso_639_1': 'en', 'name': 'English'}]  Released   \n",
       "The Dark Knight  [{'iso_639_1': 'en', 'name': 'English'}, {'iso...  Released   \n",
       "Avatar           [{'iso_639_1': 'en', 'name': 'English'}, {'iso...  Released   \n",
       "The Avengers              [{'iso_639_1': 'en', 'name': 'English'}]  Released   \n",
       "Deadpool                  [{'iso_639_1': 'en', 'name': 'English'}]  Released   \n",
       "\n",
       "                                                 tagline  video vote_average  \\\n",
       "title                                                                          \n",
       "Inception           Your mind is the scene of the crime.  False          8.1   \n",
       "The Dark Knight                          Why So Serious?  False          8.3   \n",
       "Avatar                       Enter the World of Pandora.  False          7.2   \n",
       "The Avengers                     Some assembly required.  False          7.4   \n",
       "Deadpool         Witness the beginning of a happy ending  False          7.4   \n",
       "\n",
       "                vote_count  \n",
       "title                       \n",
       "Inception            14075  \n",
       "The Dark Knight      12269  \n",
       "Avatar               12114  \n",
       "The Avengers         12000  \n",
       "Deadpool             11444  \n",
       "\n",
       "[5 rows x 23 columns]"
      ]
     },
     "execution_count": 8,
     "metadata": {},
     "output_type": "execute_result"
    }
   ],
   "source": [
    "movie.head()"
   ]
  },
  {
   "cell_type": "code",
   "execution_count": 9,
   "metadata": {},
   "outputs": [],
   "source": [
    "movie['genres'] = movie['genres'].fillna('[]').apply(literal_eval).apply(lambda x: [i['name'] for i in x] if isinstance(x, list) else [])\n",
    "movie['production_countries'] = movie['production_countries'].fillna('[]').apply(literal_eval).apply(lambda x: [i['name'] for i in x] if isinstance(x, list) else [])\n",
    "movie['production_companies'] = movie['production_companies'].fillna('[]').apply(literal_eval).apply(lambda x: [i['name'] for i in x] if isinstance(x, list) else [])"
   ]
  },
  {
   "cell_type": "code",
   "execution_count": 10,
   "metadata": {},
   "outputs": [
    {
     "data": {
      "text/plain": [
       "adult                        0\n",
       "belongs_to_collection    22221\n",
       "budget                       0\n",
       "genres                       0\n",
       "homepage                 20541\n",
       "id                           0\n",
       "imdb_id                      4\n",
       "original_language            2\n",
       "original_title               0\n",
       "overview                   200\n",
       "popularity                   0\n",
       "poster_path                  1\n",
       "production_companies         0\n",
       "production_countries         0\n",
       "release_date                 3\n",
       "revenue                      0\n",
       "runtime                     22\n",
       "spoken_languages             0\n",
       "status                       6\n",
       "tagline                  11298\n",
       "video                        0\n",
       "vote_average                 0\n",
       "vote_count                   0\n",
       "dtype: int64"
      ]
     },
     "execution_count": 10,
     "metadata": {},
     "output_type": "execute_result"
    }
   ],
   "source": [
    "movie.isnull().sum()"
   ]
  },
  {
   "cell_type": "code",
   "execution_count": 84,
   "metadata": {},
   "outputs": [
    {
     "data": {
      "text/plain": [
       "<matplotlib.axes._subplots.AxesSubplot at 0x7f1820350a90>"
      ]
     },
     "execution_count": 84,
     "metadata": {},
     "output_type": "execute_result"
    },
    {
     "data": {
      "image/png": "[encoded data removed]",
      "text/plain": [
       "<Figure size 432x288 with 1 Axes>"
      ]
     },
     "metadata": {
      "needs_background": "light"
     },
     "output_type": "display_data"
    }
   ],
   "source": [
    "sns.heatmap(movie.isnull(), yticklabels = False, cbar = False, cmap = 'viridis')"
   ]
  },
  {
   "cell_type": "code",
   "execution_count": 11,
   "metadata": {},
   "outputs": [],
   "source": [
    "# drop the columns that do not seem interesting or relevant \n",
    "movie_clean = movie.drop(['tagline', 'homepage','imdb_id', 'poster_path', 'original_title', 'overview', 'status', 'video', 'adult'], axis = 1)"
   ]
  },
  {
   "cell_type": "code",
   "execution_count": 12,
   "metadata": {},
   "outputs": [
    {
     "data": {
      "text/plain": [
       "18117"
      ]
     },
     "execution_count": 12,
     "metadata": {},
     "output_type": "execute_result"
    }
   ],
   "source": [
    "# we want to see if there is any 0 values for budget and revenues \n",
    "movie_clean[movie_clean['budget'] == 0]['budget'].count()"
   ]
  },
  {
   "cell_type": "code",
   "execution_count": 13,
   "metadata": {},
   "outputs": [
    {
     "data": {
      "text/plain": [
       "19014"
      ]
     },
     "execution_count": 13,
     "metadata": {},
     "output_type": "execute_result"
    }
   ],
   "source": [
    "movie_clean[movie_clean['revenue'] == 0]['revenue'].count()"
   ]
  },
  {
   "cell_type": "code",
   "execution_count": 14,
   "metadata": {},
   "outputs": [],
   "source": [
    "# we should input NA values for revenues when both budget and revenue are 0 \n",
    "# we should input NA values for budget when budget is 0\n",
    "# but we are gonna leave the ones that have budget value but no revenue value\n",
    "\n",
    "movie_clean.loc[(movie_clean['budget'] == 0) & (movie_clean['revenue'] == 0), 'revenue'] = np.nan\n",
    "movie_clean.loc[movie_clean['budget'] == 0,'budget'] = np.nan"
   ]
  },
  {
   "cell_type": "code",
   "execution_count": 15,
   "metadata": {},
   "outputs": [
    {
     "data": {
      "text/plain": [
       "belongs_to_collection    22221\n",
       "budget                   18117\n",
       "genres                       0\n",
       "id                           0\n",
       "original_language            2\n",
       "popularity                   0\n",
       "production_companies         0\n",
       "production_countries         0\n",
       "release_date                 3\n",
       "revenue                  16360\n",
       "runtime                     22\n",
       "spoken_languages             0\n",
       "vote_average                 0\n",
       "vote_count                   0\n",
       "dtype: int64"
      ]
     },
     "execution_count": 15,
     "metadata": {},
     "output_type": "execute_result"
    }
   ],
   "source": [
    "movie_clean.isnull().sum()"
   ]
  },
  {
   "cell_type": "code",
   "execution_count": 16,
   "metadata": {},
   "outputs": [],
   "source": [
    "movie_clean = movie_clean.dropna()"
   ]
  },
  {
   "cell_type": "code",
   "execution_count": 17,
   "metadata": {},
   "outputs": [],
   "source": [
    "# we want to add a net profit column as well \n",
    "movie_clean['profit'] = movie_clean['revenue'] - movie_clean['budget']"
   ]
  },
  {
   "cell_type": "code",
   "execution_count": 18,
   "metadata": {},
   "outputs": [
    {
     "data": {
      "text/html": [
       "<div>\n",
       "<style scoped>\n",
       "    .dataframe tbody tr th:only-of-type {\n",
       "        vertical-align: middle;\n",
       "    }\n",
       "\n",
       "    .dataframe tbody tr th {\n",
       "        vertical-align: top;\n",
       "    }\n",
       "\n",
       "    .dataframe thead th {\n",
       "        text-align: right;\n",
       "    }\n",
       "</style>\n",
       "<table border=\"1\" class=\"dataframe\">\n",
       "  <thead>\n",
       "    <tr style=\"text-align: right;\">\n",
       "      <th></th>\n",
       "      <th>belongs_to_collection</th>\n",
       "      <th>budget</th>\n",
       "      <th>genres</th>\n",
       "      <th>id</th>\n",
       "      <th>original_language</th>\n",
       "      <th>popularity</th>\n",
       "      <th>production_companies</th>\n",
       "      <th>production_countries</th>\n",
       "      <th>release_date</th>\n",
       "      <th>revenue</th>\n",
       "      <th>runtime</th>\n",
       "      <th>spoken_languages</th>\n",
       "      <th>vote_average</th>\n",
       "      <th>vote_count</th>\n",
       "      <th>profit</th>\n",
       "    </tr>\n",
       "    <tr>\n",
       "      <th>title</th>\n",
       "      <th></th>\n",
       "      <th></th>\n",
       "      <th></th>\n",
       "      <th></th>\n",
       "      <th></th>\n",
       "      <th></th>\n",
       "      <th></th>\n",
       "      <th></th>\n",
       "      <th></th>\n",
       "      <th></th>\n",
       "      <th></th>\n",
       "      <th></th>\n",
       "      <th></th>\n",
       "      <th></th>\n",
       "      <th></th>\n",
       "    </tr>\n",
       "  </thead>\n",
       "  <tbody>\n",
       "    <tr>\n",
       "      <th>The Dark Knight</th>\n",
       "      <td>{'id': 263, 'name': 'The Dark Knight Collectio...</td>\n",
       "      <td>185000000.0</td>\n",
       "      <td>[Drama, Action, Crime, Thriller]</td>\n",
       "      <td>155</td>\n",
       "      <td>en</td>\n",
       "      <td>123.167259</td>\n",
       "      <td>[DC Comics, Legendary Pictures, Warner Bros., ...</td>\n",
       "      <td>[United Kingdom, United States of America]</td>\n",
       "      <td>7/16/2008</td>\n",
       "      <td>1.004558e+09</td>\n",
       "      <td>152.0</td>\n",
       "      <td>[{'iso_639_1': 'en', 'name': 'English'}, {'iso...</td>\n",
       "      <td>8.3</td>\n",
       "      <td>12269</td>\n",
       "      <td>8.195584e+08</td>\n",
       "    </tr>\n",
       "    <tr>\n",
       "      <th>Avatar</th>\n",
       "      <td>{'id': 87096, 'name': 'Avatar Collection', 'po...</td>\n",
       "      <td>237000000.0</td>\n",
       "      <td>[Action, Adventure, Fantasy, Science Fiction]</td>\n",
       "      <td>19995</td>\n",
       "      <td>en</td>\n",
       "      <td>185.070892</td>\n",
       "      <td>[Ingenious Film Partners, Twentieth Century Fo...</td>\n",
       "      <td>[United States of America, United Kingdom]</td>\n",
       "      <td>12/10/2009</td>\n",
       "      <td>2.787965e+09</td>\n",
       "      <td>162.0</td>\n",
       "      <td>[{'iso_639_1': 'en', 'name': 'English'}, {'iso...</td>\n",
       "      <td>7.2</td>\n",
       "      <td>12114</td>\n",
       "      <td>2.550965e+09</td>\n",
       "    </tr>\n",
       "    <tr>\n",
       "      <th>The Avengers</th>\n",
       "      <td>{'id': 86311, 'name': 'The Avengers Collection...</td>\n",
       "      <td>220000000.0</td>\n",
       "      <td>[Science Fiction, Action, Adventure]</td>\n",
       "      <td>24428</td>\n",
       "      <td>en</td>\n",
       "      <td>89.887648</td>\n",
       "      <td>[Paramount Pictures, Marvel Studios]</td>\n",
       "      <td>[United States of America]</td>\n",
       "      <td>4/25/2012</td>\n",
       "      <td>1.519558e+09</td>\n",
       "      <td>143.0</td>\n",
       "      <td>[{'iso_639_1': 'en', 'name': 'English'}]</td>\n",
       "      <td>7.4</td>\n",
       "      <td>12000</td>\n",
       "      <td>1.299558e+09</td>\n",
       "    </tr>\n",
       "    <tr>\n",
       "      <th>Deadpool</th>\n",
       "      <td>{'id': 448150, 'name': 'Deadpool Collection', ...</td>\n",
       "      <td>58000000.0</td>\n",
       "      <td>[Action, Adventure, Comedy]</td>\n",
       "      <td>293660</td>\n",
       "      <td>en</td>\n",
       "      <td>187.860492</td>\n",
       "      <td>[Twentieth Century Fox Film Corporation, Marve...</td>\n",
       "      <td>[United States of America]</td>\n",
       "      <td>2/9/2016</td>\n",
       "      <td>7.831130e+08</td>\n",
       "      <td>108.0</td>\n",
       "      <td>[{'iso_639_1': 'en', 'name': 'English'}]</td>\n",
       "      <td>7.4</td>\n",
       "      <td>11444</td>\n",
       "      <td>7.251130e+08</td>\n",
       "    </tr>\n",
       "    <tr>\n",
       "      <th>Guardians of the Galaxy</th>\n",
       "      <td>{'id': 284433, 'name': 'Guardians of the Galax...</td>\n",
       "      <td>170000000.0</td>\n",
       "      <td>[Action, Science Fiction, Adventure]</td>\n",
       "      <td>118340</td>\n",
       "      <td>en</td>\n",
       "      <td>53.291601</td>\n",
       "      <td>[Marvel Studios, Moving Picture Company (MPC),...</td>\n",
       "      <td>[United Kingdom, United States of America]</td>\n",
       "      <td>7/30/2014</td>\n",
       "      <td>7.733286e+08</td>\n",
       "      <td>121.0</td>\n",
       "      <td>[{'iso_639_1': 'en', 'name': 'English'}]</td>\n",
       "      <td>7.9</td>\n",
       "      <td>10014</td>\n",
       "      <td>6.033286e+08</td>\n",
       "    </tr>\n",
       "  </tbody>\n",
       "</table>\n",
       "</div>"
      ],
      "text/plain": [
       "                                                     belongs_to_collection  \\\n",
       "title                                                                        \n",
       "The Dark Knight          {'id': 263, 'name': 'The Dark Knight Collectio...   \n",
       "Avatar                   {'id': 87096, 'name': 'Avatar Collection', 'po...   \n",
       "The Avengers             {'id': 86311, 'name': 'The Avengers Collection...   \n",
       "Deadpool                 {'id': 448150, 'name': 'Deadpool Collection', ...   \n",
       "Guardians of the Galaxy  {'id': 284433, 'name': 'Guardians of the Galax...   \n",
       "\n",
       "                              budget  \\\n",
       "title                                  \n",
       "The Dark Knight          185000000.0   \n",
       "Avatar                   237000000.0   \n",
       "The Avengers             220000000.0   \n",
       "Deadpool                  58000000.0   \n",
       "Guardians of the Galaxy  170000000.0   \n",
       "\n",
       "                                                                genres  \\\n",
       "title                                                                    \n",
       "The Dark Knight                       [Drama, Action, Crime, Thriller]   \n",
       "Avatar                   [Action, Adventure, Fantasy, Science Fiction]   \n",
       "The Avengers                      [Science Fiction, Action, Adventure]   \n",
       "Deadpool                                   [Action, Adventure, Comedy]   \n",
       "Guardians of the Galaxy           [Action, Science Fiction, Adventure]   \n",
       "\n",
       "                             id original_language  popularity  \\\n",
       "title                                                           \n",
       "The Dark Knight             155                en  123.167259   \n",
       "Avatar                    19995                en  185.070892   \n",
       "The Avengers              24428                en   89.887648   \n",
       "Deadpool                 293660                en  187.860492   \n",
       "Guardians of the Galaxy  118340                en   53.291601   \n",
       "\n",
       "                                                      production_companies  \\\n",
       "title                                                                        \n",
       "The Dark Knight          [DC Comics, Legendary Pictures, Warner Bros., ...   \n",
       "Avatar                   [Ingenious Film Partners, Twentieth Century Fo...   \n",
       "The Avengers                          [Paramount Pictures, Marvel Studios]   \n",
       "Deadpool                 [Twentieth Century Fox Film Corporation, Marve...   \n",
       "Guardians of the Galaxy  [Marvel Studios, Moving Picture Company (MPC),...   \n",
       "\n",
       "                                               production_countries  \\\n",
       "title                                                                 \n",
       "The Dark Knight          [United Kingdom, United States of America]   \n",
       "Avatar                   [United States of America, United Kingdom]   \n",
       "The Avengers                             [United States of America]   \n",
       "Deadpool                                 [United States of America]   \n",
       "Guardians of the Galaxy  [United Kingdom, United States of America]   \n",
       "\n",
       "                        release_date       revenue  runtime  \\\n",
       "title                                                         \n",
       "The Dark Knight            7/16/2008  1.004558e+09    152.0   \n",
       "Avatar                    12/10/2009  2.787965e+09    162.0   \n",
       "The Avengers               4/25/2012  1.519558e+09    143.0   \n",
       "Deadpool                    2/9/2016  7.831130e+08    108.0   \n",
       "Guardians of the Galaxy    7/30/2014  7.733286e+08    121.0   \n",
       "\n",
       "                                                          spoken_languages  \\\n",
       "title                                                                        \n",
       "The Dark Knight          [{'iso_639_1': 'en', 'name': 'English'}, {'iso...   \n",
       "Avatar                   [{'iso_639_1': 'en', 'name': 'English'}, {'iso...   \n",
       "The Avengers                      [{'iso_639_1': 'en', 'name': 'English'}]   \n",
       "Deadpool                          [{'iso_639_1': 'en', 'name': 'English'}]   \n",
       "Guardians of the Galaxy           [{'iso_639_1': 'en', 'name': 'English'}]   \n",
       "\n",
       "                         vote_average  vote_count        profit  \n",
       "title                                                            \n",
       "The Dark Knight                   8.3       12269  8.195584e+08  \n",
       "Avatar                            7.2       12114  2.550965e+09  \n",
       "The Avengers                      7.4       12000  1.299558e+09  \n",
       "Deadpool                          7.4       11444  7.251130e+08  \n",
       "Guardians of the Galaxy           7.9       10014  6.033286e+08  "
      ]
     },
     "execution_count": 18,
     "metadata": {},
     "output_type": "execute_result"
    }
   ],
   "source": [
    "movie_clean.head()"
   ]
  },
  {
   "cell_type": "markdown",
   "metadata": {},
   "source": [
    "### explortatory data analysis"
   ]
  },
  {
   "cell_type": "markdown",
   "metadata": {},
   "source": [
    "we want to check the corrleation bewteen different variables "
   ]
  },
  {
   "cell_type": "code",
   "execution_count": 19,
   "metadata": {},
   "outputs": [
    {
     "data": {
      "image/png": "[encoded data removed]",
      "text/plain": [
       "<Figure size 432x288 with 2 Axes>"
      ]
     },
     "metadata": {
      "needs_background": "light"
     },
     "output_type": "display_data"
    }
   ],
   "source": [
    "ax = plt.axes()\n",
    "sns.heatmap(movie_clean.corr(), cmap = 'BuPu')\n",
    "ax.set_title('Correlation among variables')\n",
    "plt.show()"
   ]
  },
  {
   "cell_type": "markdown",
   "metadata": {},
   "source": [
    "As we can see, budget, revenue and votecount are heavily correlated(0.8). \n",
    "This makes sense because usually the larger the budget, the bigger the revenue, and also the movie gets a lot of publicity. "
   ]
  },
  {
   "cell_type": "code",
   "execution_count": null,
   "metadata": {},
   "outputs": [],
   "source": []
  },
  {
   "cell_type": "markdown",
   "metadata": {},
   "source": [
    "First we want to define a function that count the number of times for different categorical values in certain columns "
   ]
  },
  {
   "cell_type": "code",
   "execution_count": 20,
   "metadata": {},
   "outputs": [],
   "source": [
    "def counting_values(df, column):\n",
    "    value_count = {}\n",
    "    for row in df[column].dropna():\n",
    "        if len(row) > 0:\n",
    "            for key in row:\n",
    "                if key in value_count:\n",
    "                    value_count[key] += 1\n",
    "                else:\n",
    "                    value_count[key] = 1\n",
    "        else:\n",
    "            pass\n",
    "    return value_count"
   ]
  },
  {
   "cell_type": "code",
   "execution_count": 21,
   "metadata": {},
   "outputs": [],
   "source": [
    "genre = pd.Series(counting_values(movie_clean, 'genres'))\n",
    "country = pd.Series(counting_values(movie_clean, 'production_countries'))\n",
    "company = pd.Series(counting_values(movie_clean, 'production_companies'))"
   ]
  },
  {
   "cell_type": "markdown",
   "metadata": {},
   "source": [
    "We want to look at genre"
   ]
  },
  {
   "cell_type": "code",
   "execution_count": 22,
   "metadata": {},
   "outputs": [],
   "source": [
    "genre_top15 = genre.sort_values(ascending = False).head(15)"
   ]
  },
  {
   "cell_type": "code",
   "execution_count": 23,
   "metadata": {},
   "outputs": [
    {
     "data": {
      "image/png": "[encoded data removed]",
      "text/plain": [
       "<Figure size 432x288 with 1 Axes>"
      ]
     },
     "metadata": {
      "needs_background": "light"
     },
     "output_type": "display_data"
    }
   ],
   "source": [
    "ax = plt.axes()\n",
    "genre_top15.plot(kind = 'bar')\n",
    "ax.set_title('Top 15 genres')\n",
    "plt.show()"
   ]
  },
  {
   "cell_type": "code",
   "execution_count": 25,
   "metadata": {},
   "outputs": [
    {
     "data": {
      "text/plain": [
       "Action             610\n",
       "Comedy             498\n",
       "Thriller           488\n",
       "Adventure          460\n",
       "Horror             381\n",
       "Science Fiction    308\n",
       "Drama              305\n",
       "Fantasy            244\n",
       "Family             243\n",
       "Crime              219\n",
       "Animation          148\n",
       "Mystery            105\n",
       "Romance            103\n",
       "Music               39\n",
       "War                 31\n",
       "dtype: int64"
      ]
     },
     "execution_count": 25,
     "metadata": {},
     "output_type": "execute_result"
    }
   ],
   "source": [
    "genre_top15"
   ]
  },
  {
   "cell_type": "markdown",
   "metadata": {},
   "source": [
    "we can also look at pruduction companies "
   ]
  },
  {
   "cell_type": "code",
   "execution_count": 26,
   "metadata": {},
   "outputs": [],
   "source": [
    "company_top15 = company.sort_values(ascending = False).head(15)"
   ]
  },
  {
   "cell_type": "code",
   "execution_count": 27,
   "metadata": {},
   "outputs": [
    {
     "data": {
      "image/png": "[encoded data removed]",
      "text/plain": [
       "<Figure size 432x288 with 1 Axes>"
      ]
     },
     "metadata": {
      "needs_background": "light"
     },
     "output_type": "display_data"
    }
   ],
   "source": [
    "ax = plt.axes()\n",
    "company_top15.plot(kind = 'bar')\n",
    "ax.set_title('Top 15 company')\n",
    "plt.show()"
   ]
  },
  {
   "cell_type": "markdown",
   "metadata": {},
   "source": [
    "Lets look at countries too"
   ]
  },
  {
   "cell_type": "code",
   "execution_count": 28,
   "metadata": {},
   "outputs": [
    {
     "data": {
      "text/plain": [
       "United Kingdom               170\n",
       "United States of America    1281\n",
       "Australia                     32\n",
       "China                         26\n",
       "New Zealand                    8\n",
       "dtype: int64"
      ]
     },
     "execution_count": 28,
     "metadata": {},
     "output_type": "execute_result"
    }
   ],
   "source": [
    "country.head()"
   ]
  },
  {
   "cell_type": "code",
   "execution_count": 87,
   "metadata": {},
   "outputs": [
    {
     "data": {
      "text/plain": [
       "<matplotlib.axes._subplots.AxesSubplot at 0x7f18203567f0>"
      ]
     },
     "execution_count": 87,
     "metadata": {},
     "output_type": "execute_result"
    },
    {
     "data": {
      "image/png": "[encoded data removed]",
      "text/plain": [
       "<Figure size 432x288 with 1 Axes>"
      ]
     },
     "metadata": {
      "needs_background": "light"
     },
     "output_type": "display_data"
    }
   ],
   "source": [
    "country.sort_values(ascending = False).head(10).plot(kind = 'bar')"
   ]
  },
  {
   "cell_type": "code",
   "execution_count": null,
   "metadata": {},
   "outputs": [],
   "source": []
  },
  {
   "cell_type": "code",
   "execution_count": null,
   "metadata": {},
   "outputs": [],
   "source": []
  },
  {
   "cell_type": "code",
   "execution_count": null,
   "metadata": {},
   "outputs": [],
   "source": []
  },
  {
   "cell_type": "code",
   "execution_count": null,
   "metadata": {},
   "outputs": [],
   "source": []
  },
  {
   "cell_type": "code",
   "execution_count": null,
   "metadata": {},
   "outputs": [],
   "source": []
  }
 ],
 "metadata": {
  "kernelspec": {
   "display_name": "Python 3",
   "language": "python",
   "name": "python3"
  },
  "language_info": {
   "codemirror_mode": {
    "name": "ipython",
    "version": 3
   },
   "file_extension": ".py",
   "mimetype": "text/x-python",
   "name": "python",
   "nbconvert_exporter": "python",
   "pygments_lexer": "ipython3",
   "version": "3.6.7"
  }
 },
 "nbformat": 4,
 "nbformat_minor": 2
}
